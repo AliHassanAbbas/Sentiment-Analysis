{
  "nbformat": 4,
  "nbformat_minor": 0,
  "metadata": {
    "colab": {
      "provenance": [],
      "gpuType": "T4"
    },
    "kernelspec": {
      "name": "python3",
      "display_name": "Python 3"
    },
    "language_info": {
      "name": "python"
    },
    "accelerator": "GPU",
    "widgets": {
      "application/vnd.jupyter.widget-state+json": {
        "28c7042fbf27482582387ab1db25feda": {
          "model_module": "@jupyter-widgets/controls",
          "model_name": "HBoxModel",
          "model_module_version": "1.5.0",
          "state": {
            "_dom_classes": [],
            "_model_module": "@jupyter-widgets/controls",
            "_model_module_version": "1.5.0",
            "_model_name": "HBoxModel",
            "_view_count": null,
            "_view_module": "@jupyter-widgets/controls",
            "_view_module_version": "1.5.0",
            "_view_name": "HBoxView",
            "box_style": "",
            "children": [
              "IPY_MODEL_2237f3db21344d6baf7ef34a5b6d3ec0",
              "IPY_MODEL_8e48aa4216e14054977e0a4fb9240fc1",
              "IPY_MODEL_a5b3880e3b6c41e8931386eb6e2be1eb"
            ],
            "layout": "IPY_MODEL_c13fa36cb8644df5bc85f53fcac58259"
          }
        },
        "2237f3db21344d6baf7ef34a5b6d3ec0": {
          "model_module": "@jupyter-widgets/controls",
          "model_name": "HTMLModel",
          "model_module_version": "1.5.0",
          "state": {
            "_dom_classes": [],
            "_model_module": "@jupyter-widgets/controls",
            "_model_module_version": "1.5.0",
            "_model_name": "HTMLModel",
            "_view_count": null,
            "_view_module": "@jupyter-widgets/controls",
            "_view_module_version": "1.5.0",
            "_view_name": "HTMLView",
            "description": "",
            "description_tooltip": null,
            "layout": "IPY_MODEL_b89847bf8f5c418ba19e28900e5797ed",
            "placeholder": "​",
            "style": "IPY_MODEL_261284f552304da3b9cbbe900a829f1e",
            "value": "Map: 100%"
          }
        },
        "8e48aa4216e14054977e0a4fb9240fc1": {
          "model_module": "@jupyter-widgets/controls",
          "model_name": "FloatProgressModel",
          "model_module_version": "1.5.0",
          "state": {
            "_dom_classes": [],
            "_model_module": "@jupyter-widgets/controls",
            "_model_module_version": "1.5.0",
            "_model_name": "FloatProgressModel",
            "_view_count": null,
            "_view_module": "@jupyter-widgets/controls",
            "_view_module_version": "1.5.0",
            "_view_name": "ProgressView",
            "bar_style": "success",
            "description": "",
            "description_tooltip": null,
            "layout": "IPY_MODEL_909b962926094db08062bdb81c0f9a94",
            "max": 18750,
            "min": 0,
            "orientation": "horizontal",
            "style": "IPY_MODEL_cc84dff342894ba7a7e55e4503c639d4",
            "value": 18750
          }
        },
        "a5b3880e3b6c41e8931386eb6e2be1eb": {
          "model_module": "@jupyter-widgets/controls",
          "model_name": "HTMLModel",
          "model_module_version": "1.5.0",
          "state": {
            "_dom_classes": [],
            "_model_module": "@jupyter-widgets/controls",
            "_model_module_version": "1.5.0",
            "_model_name": "HTMLModel",
            "_view_count": null,
            "_view_module": "@jupyter-widgets/controls",
            "_view_module_version": "1.5.0",
            "_view_name": "HTMLView",
            "description": "",
            "description_tooltip": null,
            "layout": "IPY_MODEL_da6b9e4e70484e8083038d001748450f",
            "placeholder": "​",
            "style": "IPY_MODEL_c133a3d3a98244a2aa29c58eb817709f",
            "value": " 18750/18750 [00:12&lt;00:00, 2189.38 examples/s]"
          }
        },
        "c13fa36cb8644df5bc85f53fcac58259": {
          "model_module": "@jupyter-widgets/base",
          "model_name": "LayoutModel",
          "model_module_version": "1.2.0",
          "state": {
            "_model_module": "@jupyter-widgets/base",
            "_model_module_version": "1.2.0",
            "_model_name": "LayoutModel",
            "_view_count": null,
            "_view_module": "@jupyter-widgets/base",
            "_view_module_version": "1.2.0",
            "_view_name": "LayoutView",
            "align_content": null,
            "align_items": null,
            "align_self": null,
            "border": null,
            "bottom": null,
            "display": null,
            "flex": null,
            "flex_flow": null,
            "grid_area": null,
            "grid_auto_columns": null,
            "grid_auto_flow": null,
            "grid_auto_rows": null,
            "grid_column": null,
            "grid_gap": null,
            "grid_row": null,
            "grid_template_areas": null,
            "grid_template_columns": null,
            "grid_template_rows": null,
            "height": null,
            "justify_content": null,
            "justify_items": null,
            "left": null,
            "margin": null,
            "max_height": null,
            "max_width": null,
            "min_height": null,
            "min_width": null,
            "object_fit": null,
            "object_position": null,
            "order": null,
            "overflow": null,
            "overflow_x": null,
            "overflow_y": null,
            "padding": null,
            "right": null,
            "top": null,
            "visibility": null,
            "width": null
          }
        },
        "b89847bf8f5c418ba19e28900e5797ed": {
          "model_module": "@jupyter-widgets/base",
          "model_name": "LayoutModel",
          "model_module_version": "1.2.0",
          "state": {
            "_model_module": "@jupyter-widgets/base",
            "_model_module_version": "1.2.0",
            "_model_name": "LayoutModel",
            "_view_count": null,
            "_view_module": "@jupyter-widgets/base",
            "_view_module_version": "1.2.0",
            "_view_name": "LayoutView",
            "align_content": null,
            "align_items": null,
            "align_self": null,
            "border": null,
            "bottom": null,
            "display": null,
            "flex": null,
            "flex_flow": null,
            "grid_area": null,
            "grid_auto_columns": null,
            "grid_auto_flow": null,
            "grid_auto_rows": null,
            "grid_column": null,
            "grid_gap": null,
            "grid_row": null,
            "grid_template_areas": null,
            "grid_template_columns": null,
            "grid_template_rows": null,
            "height": null,
            "justify_content": null,
            "justify_items": null,
            "left": null,
            "margin": null,
            "max_height": null,
            "max_width": null,
            "min_height": null,
            "min_width": null,
            "object_fit": null,
            "object_position": null,
            "order": null,
            "overflow": null,
            "overflow_x": null,
            "overflow_y": null,
            "padding": null,
            "right": null,
            "top": null,
            "visibility": null,
            "width": null
          }
        },
        "261284f552304da3b9cbbe900a829f1e": {
          "model_module": "@jupyter-widgets/controls",
          "model_name": "DescriptionStyleModel",
          "model_module_version": "1.5.0",
          "state": {
            "_model_module": "@jupyter-widgets/controls",
            "_model_module_version": "1.5.0",
            "_model_name": "DescriptionStyleModel",
            "_view_count": null,
            "_view_module": "@jupyter-widgets/base",
            "_view_module_version": "1.2.0",
            "_view_name": "StyleView",
            "description_width": ""
          }
        },
        "909b962926094db08062bdb81c0f9a94": {
          "model_module": "@jupyter-widgets/base",
          "model_name": "LayoutModel",
          "model_module_version": "1.2.0",
          "state": {
            "_model_module": "@jupyter-widgets/base",
            "_model_module_version": "1.2.0",
            "_model_name": "LayoutModel",
            "_view_count": null,
            "_view_module": "@jupyter-widgets/base",
            "_view_module_version": "1.2.0",
            "_view_name": "LayoutView",
            "align_content": null,
            "align_items": null,
            "align_self": null,
            "border": null,
            "bottom": null,
            "display": null,
            "flex": null,
            "flex_flow": null,
            "grid_area": null,
            "grid_auto_columns": null,
            "grid_auto_flow": null,
            "grid_auto_rows": null,
            "grid_column": null,
            "grid_gap": null,
            "grid_row": null,
            "grid_template_areas": null,
            "grid_template_columns": null,
            "grid_template_rows": null,
            "height": null,
            "justify_content": null,
            "justify_items": null,
            "left": null,
            "margin": null,
            "max_height": null,
            "max_width": null,
            "min_height": null,
            "min_width": null,
            "object_fit": null,
            "object_position": null,
            "order": null,
            "overflow": null,
            "overflow_x": null,
            "overflow_y": null,
            "padding": null,
            "right": null,
            "top": null,
            "visibility": null,
            "width": null
          }
        },
        "cc84dff342894ba7a7e55e4503c639d4": {
          "model_module": "@jupyter-widgets/controls",
          "model_name": "ProgressStyleModel",
          "model_module_version": "1.5.0",
          "state": {
            "_model_module": "@jupyter-widgets/controls",
            "_model_module_version": "1.5.0",
            "_model_name": "ProgressStyleModel",
            "_view_count": null,
            "_view_module": "@jupyter-widgets/base",
            "_view_module_version": "1.2.0",
            "_view_name": "StyleView",
            "bar_color": null,
            "description_width": ""
          }
        },
        "da6b9e4e70484e8083038d001748450f": {
          "model_module": "@jupyter-widgets/base",
          "model_name": "LayoutModel",
          "model_module_version": "1.2.0",
          "state": {
            "_model_module": "@jupyter-widgets/base",
            "_model_module_version": "1.2.0",
            "_model_name": "LayoutModel",
            "_view_count": null,
            "_view_module": "@jupyter-widgets/base",
            "_view_module_version": "1.2.0",
            "_view_name": "LayoutView",
            "align_content": null,
            "align_items": null,
            "align_self": null,
            "border": null,
            "bottom": null,
            "display": null,
            "flex": null,
            "flex_flow": null,
            "grid_area": null,
            "grid_auto_columns": null,
            "grid_auto_flow": null,
            "grid_auto_rows": null,
            "grid_column": null,
            "grid_gap": null,
            "grid_row": null,
            "grid_template_areas": null,
            "grid_template_columns": null,
            "grid_template_rows": null,
            "height": null,
            "justify_content": null,
            "justify_items": null,
            "left": null,
            "margin": null,
            "max_height": null,
            "max_width": null,
            "min_height": null,
            "min_width": null,
            "object_fit": null,
            "object_position": null,
            "order": null,
            "overflow": null,
            "overflow_x": null,
            "overflow_y": null,
            "padding": null,
            "right": null,
            "top": null,
            "visibility": null,
            "width": null
          }
        },
        "c133a3d3a98244a2aa29c58eb817709f": {
          "model_module": "@jupyter-widgets/controls",
          "model_name": "DescriptionStyleModel",
          "model_module_version": "1.5.0",
          "state": {
            "_model_module": "@jupyter-widgets/controls",
            "_model_module_version": "1.5.0",
            "_model_name": "DescriptionStyleModel",
            "_view_count": null,
            "_view_module": "@jupyter-widgets/base",
            "_view_module_version": "1.2.0",
            "_view_name": "StyleView",
            "description_width": ""
          }
        },
        "90df975e37e84f89a63e6c89e511e90f": {
          "model_module": "@jupyter-widgets/controls",
          "model_name": "HBoxModel",
          "model_module_version": "1.5.0",
          "state": {
            "_dom_classes": [],
            "_model_module": "@jupyter-widgets/controls",
            "_model_module_version": "1.5.0",
            "_model_name": "HBoxModel",
            "_view_count": null,
            "_view_module": "@jupyter-widgets/controls",
            "_view_module_version": "1.5.0",
            "_view_name": "HBoxView",
            "box_style": "",
            "children": [
              "IPY_MODEL_460aa483cc314a6f843416ae3736e325",
              "IPY_MODEL_bbf44c72e07543de9121e3b011ca6dbf",
              "IPY_MODEL_ee42257bd5a143d4a30a3bc009adae9e"
            ],
            "layout": "IPY_MODEL_77e4a0a4a73a4e54b96e7305ac91e835"
          }
        },
        "460aa483cc314a6f843416ae3736e325": {
          "model_module": "@jupyter-widgets/controls",
          "model_name": "HTMLModel",
          "model_module_version": "1.5.0",
          "state": {
            "_dom_classes": [],
            "_model_module": "@jupyter-widgets/controls",
            "_model_module_version": "1.5.0",
            "_model_name": "HTMLModel",
            "_view_count": null,
            "_view_module": "@jupyter-widgets/controls",
            "_view_module_version": "1.5.0",
            "_view_name": "HTMLView",
            "description": "",
            "description_tooltip": null,
            "layout": "IPY_MODEL_29a4e8b78a0b495582f44f6a5bda6c2c",
            "placeholder": "​",
            "style": "IPY_MODEL_1cfaded07d4c429f848ee1f78b4bcc84",
            "value": "Map: 100%"
          }
        },
        "bbf44c72e07543de9121e3b011ca6dbf": {
          "model_module": "@jupyter-widgets/controls",
          "model_name": "FloatProgressModel",
          "model_module_version": "1.5.0",
          "state": {
            "_dom_classes": [],
            "_model_module": "@jupyter-widgets/controls",
            "_model_module_version": "1.5.0",
            "_model_name": "FloatProgressModel",
            "_view_count": null,
            "_view_module": "@jupyter-widgets/controls",
            "_view_module_version": "1.5.0",
            "_view_name": "ProgressView",
            "bar_style": "success",
            "description": "",
            "description_tooltip": null,
            "layout": "IPY_MODEL_742e8dbd44594158a08d7d73133b12bb",
            "max": 6250,
            "min": 0,
            "orientation": "horizontal",
            "style": "IPY_MODEL_163edde7154a490f87158ea2abdffbb7",
            "value": 6250
          }
        },
        "ee42257bd5a143d4a30a3bc009adae9e": {
          "model_module": "@jupyter-widgets/controls",
          "model_name": "HTMLModel",
          "model_module_version": "1.5.0",
          "state": {
            "_dom_classes": [],
            "_model_module": "@jupyter-widgets/controls",
            "_model_module_version": "1.5.0",
            "_model_name": "HTMLModel",
            "_view_count": null,
            "_view_module": "@jupyter-widgets/controls",
            "_view_module_version": "1.5.0",
            "_view_name": "HTMLView",
            "description": "",
            "description_tooltip": null,
            "layout": "IPY_MODEL_7fd019c438f645078aac408cf44cd054",
            "placeholder": "​",
            "style": "IPY_MODEL_d81f58a7cf174d24a7104ac7f5047945",
            "value": " 6250/6250 [00:04&lt;00:00, 862.16 examples/s]"
          }
        },
        "77e4a0a4a73a4e54b96e7305ac91e835": {
          "model_module": "@jupyter-widgets/base",
          "model_name": "LayoutModel",
          "model_module_version": "1.2.0",
          "state": {
            "_model_module": "@jupyter-widgets/base",
            "_model_module_version": "1.2.0",
            "_model_name": "LayoutModel",
            "_view_count": null,
            "_view_module": "@jupyter-widgets/base",
            "_view_module_version": "1.2.0",
            "_view_name": "LayoutView",
            "align_content": null,
            "align_items": null,
            "align_self": null,
            "border": null,
            "bottom": null,
            "display": null,
            "flex": null,
            "flex_flow": null,
            "grid_area": null,
            "grid_auto_columns": null,
            "grid_auto_flow": null,
            "grid_auto_rows": null,
            "grid_column": null,
            "grid_gap": null,
            "grid_row": null,
            "grid_template_areas": null,
            "grid_template_columns": null,
            "grid_template_rows": null,
            "height": null,
            "justify_content": null,
            "justify_items": null,
            "left": null,
            "margin": null,
            "max_height": null,
            "max_width": null,
            "min_height": null,
            "min_width": null,
            "object_fit": null,
            "object_position": null,
            "order": null,
            "overflow": null,
            "overflow_x": null,
            "overflow_y": null,
            "padding": null,
            "right": null,
            "top": null,
            "visibility": null,
            "width": null
          }
        },
        "29a4e8b78a0b495582f44f6a5bda6c2c": {
          "model_module": "@jupyter-widgets/base",
          "model_name": "LayoutModel",
          "model_module_version": "1.2.0",
          "state": {
            "_model_module": "@jupyter-widgets/base",
            "_model_module_version": "1.2.0",
            "_model_name": "LayoutModel",
            "_view_count": null,
            "_view_module": "@jupyter-widgets/base",
            "_view_module_version": "1.2.0",
            "_view_name": "LayoutView",
            "align_content": null,
            "align_items": null,
            "align_self": null,
            "border": null,
            "bottom": null,
            "display": null,
            "flex": null,
            "flex_flow": null,
            "grid_area": null,
            "grid_auto_columns": null,
            "grid_auto_flow": null,
            "grid_auto_rows": null,
            "grid_column": null,
            "grid_gap": null,
            "grid_row": null,
            "grid_template_areas": null,
            "grid_template_columns": null,
            "grid_template_rows": null,
            "height": null,
            "justify_content": null,
            "justify_items": null,
            "left": null,
            "margin": null,
            "max_height": null,
            "max_width": null,
            "min_height": null,
            "min_width": null,
            "object_fit": null,
            "object_position": null,
            "order": null,
            "overflow": null,
            "overflow_x": null,
            "overflow_y": null,
            "padding": null,
            "right": null,
            "top": null,
            "visibility": null,
            "width": null
          }
        },
        "1cfaded07d4c429f848ee1f78b4bcc84": {
          "model_module": "@jupyter-widgets/controls",
          "model_name": "DescriptionStyleModel",
          "model_module_version": "1.5.0",
          "state": {
            "_model_module": "@jupyter-widgets/controls",
            "_model_module_version": "1.5.0",
            "_model_name": "DescriptionStyleModel",
            "_view_count": null,
            "_view_module": "@jupyter-widgets/base",
            "_view_module_version": "1.2.0",
            "_view_name": "StyleView",
            "description_width": ""
          }
        },
        "742e8dbd44594158a08d7d73133b12bb": {
          "model_module": "@jupyter-widgets/base",
          "model_name": "LayoutModel",
          "model_module_version": "1.2.0",
          "state": {
            "_model_module": "@jupyter-widgets/base",
            "_model_module_version": "1.2.0",
            "_model_name": "LayoutModel",
            "_view_count": null,
            "_view_module": "@jupyter-widgets/base",
            "_view_module_version": "1.2.0",
            "_view_name": "LayoutView",
            "align_content": null,
            "align_items": null,
            "align_self": null,
            "border": null,
            "bottom": null,
            "display": null,
            "flex": null,
            "flex_flow": null,
            "grid_area": null,
            "grid_auto_columns": null,
            "grid_auto_flow": null,
            "grid_auto_rows": null,
            "grid_column": null,
            "grid_gap": null,
            "grid_row": null,
            "grid_template_areas": null,
            "grid_template_columns": null,
            "grid_template_rows": null,
            "height": null,
            "justify_content": null,
            "justify_items": null,
            "left": null,
            "margin": null,
            "max_height": null,
            "max_width": null,
            "min_height": null,
            "min_width": null,
            "object_fit": null,
            "object_position": null,
            "order": null,
            "overflow": null,
            "overflow_x": null,
            "overflow_y": null,
            "padding": null,
            "right": null,
            "top": null,
            "visibility": null,
            "width": null
          }
        },
        "163edde7154a490f87158ea2abdffbb7": {
          "model_module": "@jupyter-widgets/controls",
          "model_name": "ProgressStyleModel",
          "model_module_version": "1.5.0",
          "state": {
            "_model_module": "@jupyter-widgets/controls",
            "_model_module_version": "1.5.0",
            "_model_name": "ProgressStyleModel",
            "_view_count": null,
            "_view_module": "@jupyter-widgets/base",
            "_view_module_version": "1.2.0",
            "_view_name": "StyleView",
            "bar_color": null,
            "description_width": ""
          }
        },
        "7fd019c438f645078aac408cf44cd054": {
          "model_module": "@jupyter-widgets/base",
          "model_name": "LayoutModel",
          "model_module_version": "1.2.0",
          "state": {
            "_model_module": "@jupyter-widgets/base",
            "_model_module_version": "1.2.0",
            "_model_name": "LayoutModel",
            "_view_count": null,
            "_view_module": "@jupyter-widgets/base",
            "_view_module_version": "1.2.0",
            "_view_name": "LayoutView",
            "align_content": null,
            "align_items": null,
            "align_self": null,
            "border": null,
            "bottom": null,
            "display": null,
            "flex": null,
            "flex_flow": null,
            "grid_area": null,
            "grid_auto_columns": null,
            "grid_auto_flow": null,
            "grid_auto_rows": null,
            "grid_column": null,
            "grid_gap": null,
            "grid_row": null,
            "grid_template_areas": null,
            "grid_template_columns": null,
            "grid_template_rows": null,
            "height": null,
            "justify_content": null,
            "justify_items": null,
            "left": null,
            "margin": null,
            "max_height": null,
            "max_width": null,
            "min_height": null,
            "min_width": null,
            "object_fit": null,
            "object_position": null,
            "order": null,
            "overflow": null,
            "overflow_x": null,
            "overflow_y": null,
            "padding": null,
            "right": null,
            "top": null,
            "visibility": null,
            "width": null
          }
        },
        "d81f58a7cf174d24a7104ac7f5047945": {
          "model_module": "@jupyter-widgets/controls",
          "model_name": "DescriptionStyleModel",
          "model_module_version": "1.5.0",
          "state": {
            "_model_module": "@jupyter-widgets/controls",
            "_model_module_version": "1.5.0",
            "_model_name": "DescriptionStyleModel",
            "_view_count": null,
            "_view_module": "@jupyter-widgets/base",
            "_view_module_version": "1.2.0",
            "_view_name": "StyleView",
            "description_width": ""
          }
        },
        "d8c11724fabd401a9c1cafbf63aced0b": {
          "model_module": "@jupyter-widgets/controls",
          "model_name": "HBoxModel",
          "model_module_version": "1.5.0",
          "state": {
            "_dom_classes": [],
            "_model_module": "@jupyter-widgets/controls",
            "_model_module_version": "1.5.0",
            "_model_name": "HBoxModel",
            "_view_count": null,
            "_view_module": "@jupyter-widgets/controls",
            "_view_module_version": "1.5.0",
            "_view_name": "HBoxView",
            "box_style": "",
            "children": [
              "IPY_MODEL_92afb23f715b43d297bbd322b4992f77",
              "IPY_MODEL_b44d36ea29474db28d40427071d83d42",
              "IPY_MODEL_ce1e45caa2044a8fb2d5500680a56d14"
            ],
            "layout": "IPY_MODEL_01482d4995ef47da97d2a6397301735a"
          }
        },
        "92afb23f715b43d297bbd322b4992f77": {
          "model_module": "@jupyter-widgets/controls",
          "model_name": "HTMLModel",
          "model_module_version": "1.5.0",
          "state": {
            "_dom_classes": [],
            "_model_module": "@jupyter-widgets/controls",
            "_model_module_version": "1.5.0",
            "_model_name": "HTMLModel",
            "_view_count": null,
            "_view_module": "@jupyter-widgets/controls",
            "_view_module_version": "1.5.0",
            "_view_name": "HTMLView",
            "description": "",
            "description_tooltip": null,
            "layout": "IPY_MODEL_187b5d9022214f9da749f34bba13ce40",
            "placeholder": "​",
            "style": "IPY_MODEL_4217e87370d340bbb7199b6c7051c36c",
            "value": "Map: 100%"
          }
        },
        "b44d36ea29474db28d40427071d83d42": {
          "model_module": "@jupyter-widgets/controls",
          "model_name": "FloatProgressModel",
          "model_module_version": "1.5.0",
          "state": {
            "_dom_classes": [],
            "_model_module": "@jupyter-widgets/controls",
            "_model_module_version": "1.5.0",
            "_model_name": "FloatProgressModel",
            "_view_count": null,
            "_view_module": "@jupyter-widgets/controls",
            "_view_module_version": "1.5.0",
            "_view_name": "ProgressView",
            "bar_style": "success",
            "description": "",
            "description_tooltip": null,
            "layout": "IPY_MODEL_147babf9aebb400ea3bca1dba177e1d0",
            "max": 25000,
            "min": 0,
            "orientation": "horizontal",
            "style": "IPY_MODEL_e4f945b9723c4be38b074504349b7022",
            "value": 25000
          }
        },
        "ce1e45caa2044a8fb2d5500680a56d14": {
          "model_module": "@jupyter-widgets/controls",
          "model_name": "HTMLModel",
          "model_module_version": "1.5.0",
          "state": {
            "_dom_classes": [],
            "_model_module": "@jupyter-widgets/controls",
            "_model_module_version": "1.5.0",
            "_model_name": "HTMLModel",
            "_view_count": null,
            "_view_module": "@jupyter-widgets/controls",
            "_view_module_version": "1.5.0",
            "_view_name": "HTMLView",
            "description": "",
            "description_tooltip": null,
            "layout": "IPY_MODEL_3538460b86454d459d373ab47c507c30",
            "placeholder": "​",
            "style": "IPY_MODEL_9f9e8356e0df499a92c96f6ae9574899",
            "value": " 25000/25000 [00:11&lt;00:00, 2486.70 examples/s]"
          }
        },
        "01482d4995ef47da97d2a6397301735a": {
          "model_module": "@jupyter-widgets/base",
          "model_name": "LayoutModel",
          "model_module_version": "1.2.0",
          "state": {
            "_model_module": "@jupyter-widgets/base",
            "_model_module_version": "1.2.0",
            "_model_name": "LayoutModel",
            "_view_count": null,
            "_view_module": "@jupyter-widgets/base",
            "_view_module_version": "1.2.0",
            "_view_name": "LayoutView",
            "align_content": null,
            "align_items": null,
            "align_self": null,
            "border": null,
            "bottom": null,
            "display": null,
            "flex": null,
            "flex_flow": null,
            "grid_area": null,
            "grid_auto_columns": null,
            "grid_auto_flow": null,
            "grid_auto_rows": null,
            "grid_column": null,
            "grid_gap": null,
            "grid_row": null,
            "grid_template_areas": null,
            "grid_template_columns": null,
            "grid_template_rows": null,
            "height": null,
            "justify_content": null,
            "justify_items": null,
            "left": null,
            "margin": null,
            "max_height": null,
            "max_width": null,
            "min_height": null,
            "min_width": null,
            "object_fit": null,
            "object_position": null,
            "order": null,
            "overflow": null,
            "overflow_x": null,
            "overflow_y": null,
            "padding": null,
            "right": null,
            "top": null,
            "visibility": null,
            "width": null
          }
        },
        "187b5d9022214f9da749f34bba13ce40": {
          "model_module": "@jupyter-widgets/base",
          "model_name": "LayoutModel",
          "model_module_version": "1.2.0",
          "state": {
            "_model_module": "@jupyter-widgets/base",
            "_model_module_version": "1.2.0",
            "_model_name": "LayoutModel",
            "_view_count": null,
            "_view_module": "@jupyter-widgets/base",
            "_view_module_version": "1.2.0",
            "_view_name": "LayoutView",
            "align_content": null,
            "align_items": null,
            "align_self": null,
            "border": null,
            "bottom": null,
            "display": null,
            "flex": null,
            "flex_flow": null,
            "grid_area": null,
            "grid_auto_columns": null,
            "grid_auto_flow": null,
            "grid_auto_rows": null,
            "grid_column": null,
            "grid_gap": null,
            "grid_row": null,
            "grid_template_areas": null,
            "grid_template_columns": null,
            "grid_template_rows": null,
            "height": null,
            "justify_content": null,
            "justify_items": null,
            "left": null,
            "margin": null,
            "max_height": null,
            "max_width": null,
            "min_height": null,
            "min_width": null,
            "object_fit": null,
            "object_position": null,
            "order": null,
            "overflow": null,
            "overflow_x": null,
            "overflow_y": null,
            "padding": null,
            "right": null,
            "top": null,
            "visibility": null,
            "width": null
          }
        },
        "4217e87370d340bbb7199b6c7051c36c": {
          "model_module": "@jupyter-widgets/controls",
          "model_name": "DescriptionStyleModel",
          "model_module_version": "1.5.0",
          "state": {
            "_model_module": "@jupyter-widgets/controls",
            "_model_module_version": "1.5.0",
            "_model_name": "DescriptionStyleModel",
            "_view_count": null,
            "_view_module": "@jupyter-widgets/base",
            "_view_module_version": "1.2.0",
            "_view_name": "StyleView",
            "description_width": ""
          }
        },
        "147babf9aebb400ea3bca1dba177e1d0": {
          "model_module": "@jupyter-widgets/base",
          "model_name": "LayoutModel",
          "model_module_version": "1.2.0",
          "state": {
            "_model_module": "@jupyter-widgets/base",
            "_model_module_version": "1.2.0",
            "_model_name": "LayoutModel",
            "_view_count": null,
            "_view_module": "@jupyter-widgets/base",
            "_view_module_version": "1.2.0",
            "_view_name": "LayoutView",
            "align_content": null,
            "align_items": null,
            "align_self": null,
            "border": null,
            "bottom": null,
            "display": null,
            "flex": null,
            "flex_flow": null,
            "grid_area": null,
            "grid_auto_columns": null,
            "grid_auto_flow": null,
            "grid_auto_rows": null,
            "grid_column": null,
            "grid_gap": null,
            "grid_row": null,
            "grid_template_areas": null,
            "grid_template_columns": null,
            "grid_template_rows": null,
            "height": null,
            "justify_content": null,
            "justify_items": null,
            "left": null,
            "margin": null,
            "max_height": null,
            "max_width": null,
            "min_height": null,
            "min_width": null,
            "object_fit": null,
            "object_position": null,
            "order": null,
            "overflow": null,
            "overflow_x": null,
            "overflow_y": null,
            "padding": null,
            "right": null,
            "top": null,
            "visibility": null,
            "width": null
          }
        },
        "e4f945b9723c4be38b074504349b7022": {
          "model_module": "@jupyter-widgets/controls",
          "model_name": "ProgressStyleModel",
          "model_module_version": "1.5.0",
          "state": {
            "_model_module": "@jupyter-widgets/controls",
            "_model_module_version": "1.5.0",
            "_model_name": "ProgressStyleModel",
            "_view_count": null,
            "_view_module": "@jupyter-widgets/base",
            "_view_module_version": "1.2.0",
            "_view_name": "StyleView",
            "bar_color": null,
            "description_width": ""
          }
        },
        "3538460b86454d459d373ab47c507c30": {
          "model_module": "@jupyter-widgets/base",
          "model_name": "LayoutModel",
          "model_module_version": "1.2.0",
          "state": {
            "_model_module": "@jupyter-widgets/base",
            "_model_module_version": "1.2.0",
            "_model_name": "LayoutModel",
            "_view_count": null,
            "_view_module": "@jupyter-widgets/base",
            "_view_module_version": "1.2.0",
            "_view_name": "LayoutView",
            "align_content": null,
            "align_items": null,
            "align_self": null,
            "border": null,
            "bottom": null,
            "display": null,
            "flex": null,
            "flex_flow": null,
            "grid_area": null,
            "grid_auto_columns": null,
            "grid_auto_flow": null,
            "grid_auto_rows": null,
            "grid_column": null,
            "grid_gap": null,
            "grid_row": null,
            "grid_template_areas": null,
            "grid_template_columns": null,
            "grid_template_rows": null,
            "height": null,
            "justify_content": null,
            "justify_items": null,
            "left": null,
            "margin": null,
            "max_height": null,
            "max_width": null,
            "min_height": null,
            "min_width": null,
            "object_fit": null,
            "object_position": null,
            "order": null,
            "overflow": null,
            "overflow_x": null,
            "overflow_y": null,
            "padding": null,
            "right": null,
            "top": null,
            "visibility": null,
            "width": null
          }
        },
        "9f9e8356e0df499a92c96f6ae9574899": {
          "model_module": "@jupyter-widgets/controls",
          "model_name": "DescriptionStyleModel",
          "model_module_version": "1.5.0",
          "state": {
            "_model_module": "@jupyter-widgets/controls",
            "_model_module_version": "1.5.0",
            "_model_name": "DescriptionStyleModel",
            "_view_count": null,
            "_view_module": "@jupyter-widgets/base",
            "_view_module_version": "1.2.0",
            "_view_name": "StyleView",
            "description_width": ""
          }
        }
      }
    }
  },
  "cells": [
    {
      "cell_type": "markdown",
      "source": [
        "# **Sentiment Analysis  with Neural bag of words (NBoW) also known as CBoW(continous bag of words)**"
      ],
      "metadata": {
        "id": "8e-w1lprq3Zo"
      }
    },
    {
      "cell_type": "markdown",
      "source": [
        "we will build model to perform sentimen analysis -- a subset of text classification where the task is to detect if a given sentence is positive or negative ---using **pytroch** and **torchtext**"
      ],
      "metadata": {
        "id": "RefteReGrB3M"
      }
    },
    {
      "cell_type": "markdown",
      "source": [
        "**using imdb dataset(using dataset library)**"
      ],
      "metadata": {
        "id": "KLndhq7Frdjr"
      }
    },
    {
      "cell_type": "markdown",
      "source": [
        "![image.png](data:image/png;base64,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)"
      ],
      "metadata": {
        "id": "eK9tc2IvHWGY"
      }
    },
    {
      "cell_type": "markdown",
      "source": [
        "# **WorkFlow**"
      ],
      "metadata": {
        "id": "B2eXzzmpsJ_h"
      }
    },
    {
      "cell_type": "markdown",
      "source": [
        "0. importing important liberaries\n",
        "1. Preparing Data\n",
        "2. Build A model\n",
        "3. 3.Loss Function and Optimizer\n",
        "4. training And Evaluate Functions\n",
        "5. Starting Training Loop\n",
        "6. Visulizing Our Model\n",
        "7. Testing model ,with new sentence (sentiment analysis)"
      ],
      "metadata": {
        "id": "LrKkld4wVc9E"
      }
    },
    {
      "cell_type": "markdown",
      "source": [
        "# **0.Importing Important modules(libraries etc)**"
      ],
      "metadata": {
        "id": "8DjYlKwStKSR"
      }
    },
    {
      "cell_type": "code",
      "source": [
        "!pip install datasets"
      ],
      "metadata": {
        "colab": {
          "base_uri": "https://localhost:8080/"
        },
        "id": "4aE0K985uTWJ",
        "outputId": "86a0d50b-68e8-48ff-8bd5-f80b3d780c39"
      },
      "execution_count": null,
      "outputs": [
        {
          "output_type": "stream",
          "name": "stdout",
          "text": [
            "Requirement already satisfied: datasets in /usr/local/lib/python3.10/dist-packages (2.18.0)\n",
            "Requirement already satisfied: filelock in /usr/local/lib/python3.10/dist-packages (from datasets) (3.13.4)\n",
            "Requirement already satisfied: numpy>=1.17 in /usr/local/lib/python3.10/dist-packages (from datasets) (1.25.2)\n",
            "Requirement already satisfied: pyarrow>=12.0.0 in /usr/local/lib/python3.10/dist-packages (from datasets) (14.0.2)\n",
            "Requirement already satisfied: pyarrow-hotfix in /usr/local/lib/python3.10/dist-packages (from datasets) (0.6)\n",
            "Requirement already satisfied: dill<0.3.9,>=0.3.0 in /usr/local/lib/python3.10/dist-packages (from datasets) (0.3.8)\n",
            "Requirement already satisfied: pandas in /usr/local/lib/python3.10/dist-packages (from datasets) (2.0.3)\n",
            "Requirement already satisfied: requests>=2.19.0 in /usr/local/lib/python3.10/dist-packages (from datasets) (2.31.0)\n",
            "Requirement already satisfied: tqdm>=4.62.1 in /usr/local/lib/python3.10/dist-packages (from datasets) (4.66.2)\n",
            "Requirement already satisfied: xxhash in /usr/local/lib/python3.10/dist-packages (from datasets) (3.4.1)\n",
            "Requirement already satisfied: multiprocess in /usr/local/lib/python3.10/dist-packages (from datasets) (0.70.16)\n",
            "Requirement already satisfied: fsspec[http]<=2024.2.0,>=2023.1.0 in /usr/local/lib/python3.10/dist-packages (from datasets) (2023.6.0)\n",
            "Requirement already satisfied: aiohttp in /usr/local/lib/python3.10/dist-packages (from datasets) (3.9.3)\n",
            "Requirement already satisfied: huggingface-hub>=0.19.4 in /usr/local/lib/python3.10/dist-packages (from datasets) (0.20.3)\n",
            "Requirement already satisfied: packaging in /usr/local/lib/python3.10/dist-packages (from datasets) (24.0)\n",
            "Requirement already satisfied: pyyaml>=5.1 in /usr/local/lib/python3.10/dist-packages (from datasets) (6.0.1)\n",
            "Requirement already satisfied: aiosignal>=1.1.2 in /usr/local/lib/python3.10/dist-packages (from aiohttp->datasets) (1.3.1)\n",
            "Requirement already satisfied: attrs>=17.3.0 in /usr/local/lib/python3.10/dist-packages (from aiohttp->datasets) (23.2.0)\n",
            "Requirement already satisfied: frozenlist>=1.1.1 in /usr/local/lib/python3.10/dist-packages (from aiohttp->datasets) (1.4.1)\n",
            "Requirement already satisfied: multidict<7.0,>=4.5 in /usr/local/lib/python3.10/dist-packages (from aiohttp->datasets) (6.0.5)\n",
            "Requirement already satisfied: yarl<2.0,>=1.0 in /usr/local/lib/python3.10/dist-packages (from aiohttp->datasets) (1.9.4)\n",
            "Requirement already satisfied: async-timeout<5.0,>=4.0 in /usr/local/lib/python3.10/dist-packages (from aiohttp->datasets) (4.0.3)\n",
            "Requirement already satisfied: typing-extensions>=3.7.4.3 in /usr/local/lib/python3.10/dist-packages (from huggingface-hub>=0.19.4->datasets) (4.11.0)\n",
            "Requirement already satisfied: charset-normalizer<4,>=2 in /usr/local/lib/python3.10/dist-packages (from requests>=2.19.0->datasets) (3.3.2)\n",
            "Requirement already satisfied: idna<4,>=2.5 in /usr/local/lib/python3.10/dist-packages (from requests>=2.19.0->datasets) (3.6)\n",
            "Requirement already satisfied: urllib3<3,>=1.21.1 in /usr/local/lib/python3.10/dist-packages (from requests>=2.19.0->datasets) (2.0.7)\n",
            "Requirement already satisfied: certifi>=2017.4.17 in /usr/local/lib/python3.10/dist-packages (from requests>=2.19.0->datasets) (2024.2.2)\n",
            "Requirement already satisfied: python-dateutil>=2.8.2 in /usr/local/lib/python3.10/dist-packages (from pandas->datasets) (2.8.2)\n",
            "Requirement already satisfied: pytz>=2020.1 in /usr/local/lib/python3.10/dist-packages (from pandas->datasets) (2023.4)\n",
            "Requirement already satisfied: tzdata>=2022.1 in /usr/local/lib/python3.10/dist-packages (from pandas->datasets) (2024.1)\n",
            "Requirement already satisfied: six>=1.5 in /usr/local/lib/python3.10/dist-packages (from python-dateutil>=2.8.2->pandas->datasets) (1.16.0)\n"
          ]
        }
      ]
    },
    {
      "cell_type": "code",
      "source": [
        "import collections # need defaultdict from collections so thats why we are using it\n",
        "import datasets # module getting and handling datasets\n",
        "import matplotlib.pyplot as plt # plotting our results\n",
        "import numpy as np # playing with numbers\n",
        "import torch #playing with tensors\n",
        "import torch.nn as nn # for neural  networks\n",
        "import torch.optim as optim #for neural network optimers\n",
        "import torchtext # for text processing\n",
        "import tqdm # for making progress bars"
      ],
      "metadata": {
        "id": "PkYXh6GhtkFg"
      },
      "execution_count": null,
      "outputs": []
    },
    {
      "cell_type": "markdown",
      "source": [
        "# **1 Preparing Data**"
      ],
      "metadata": {
        "id": "aEzIKUmNr6OL"
      }
    },
    {
      "cell_type": "markdown",
      "source": [
        "in preparing data there are also lot of other steps:<br>\n",
        "1.1 **Loading Data** <br>\n",
        "1.2 **Tokenizing data**<br>\n",
        "1.3 **creating data splits**<br>\n",
        "1.4 **creating a vocabulary**<br>\n",
        "1.5 **numericalizing data**<br>\n",
        "1.6 **converting into tensors**<br>\n",
        "1.6 **creating the data loader**<br>\n"
      ],
      "metadata": {
        "id": "fRgQnvXrsdJZ"
      }
    },
    {
      "cell_type": "markdown",
      "source": [
        "# **1.1 Loading the data**"
      ],
      "metadata": {
        "id": "HC5ZOWS3ue5K"
      }
    },
    {
      "cell_type": "code",
      "execution_count": null,
      "metadata": {
        "id": "2CXfh8NwqB0c"
      },
      "outputs": [],
      "source": [
        "train_data,test_data=datasets.load_dataset(\"imdb\",split=[\"train\" ,\"test\"])"
      ]
    },
    {
      "cell_type": "markdown",
      "source": [
        "1. **first argument(name of the dataset) means, which dataset you want to download**\n",
        "2. **which data splits yu want**\n",
        "3. **vist hugging face datasets and imdb for more info**"
      ],
      "metadata": {
        "id": "wYGbNEkOvkSU"
      }
    },
    {
      "cell_type": "code",
      "source": [
        "train_data,test_data"
      ],
      "metadata": {
        "colab": {
          "base_uri": "https://localhost:8080/"
        },
        "id": "z0_z6cH3uu3j",
        "outputId": "d453251c-d0eb-4559-91d5-5d91f0181bbf"
      },
      "execution_count": null,
      "outputs": [
        {
          "output_type": "execute_result",
          "data": {
            "text/plain": [
              "(Dataset({\n",
              "     features: ['text', 'label'],\n",
              "     num_rows: 25000\n",
              " }),\n",
              " Dataset({\n",
              "     features: ['text', 'label'],\n",
              "     num_rows: 25000\n",
              " }))"
            ]
          },
          "metadata": {},
          "execution_count": 67
        }
      ]
    },
    {
      "cell_type": "code",
      "source": [
        "train_data.features"
      ],
      "metadata": {
        "colab": {
          "base_uri": "https://localhost:8080/"
        },
        "id": "i15Jxqnnu12H",
        "outputId": "32262e7b-49b8-4534-ce9f-b32e54101c88"
      },
      "execution_count": null,
      "outputs": [
        {
          "output_type": "execute_result",
          "data": {
            "text/plain": [
              "{'text': Value(dtype='string', id=None),\n",
              " 'label': ClassLabel(names=['neg', 'pos'], id=None)}"
            ]
          },
          "metadata": {},
          "execution_count": 68
        }
      ]
    },
    {
      "cell_type": "markdown",
      "source": [
        "test is a string\n",
        "2. classlabel means it is intenger representing which class the example belongs ot ,\n",
        "3. num classes 2 means that ourlabels are one  of two values ,0 and 1 ,and names =['neg , pos].give us the human read able versions of thos valuses"
      ],
      "metadata": {
        "id": "o1-xZImHv4la"
      }
    },
    {
      "cell_type": "code",
      "source": [
        "train_data[0]"
      ],
      "metadata": {
        "colab": {
          "base_uri": "https://localhost:8080/"
        },
        "id": "WSrAc7t7u9eI",
        "outputId": "e1fbba45-6c7c-439a-887e-93886a8a7f0b"
      },
      "execution_count": null,
      "outputs": [
        {
          "output_type": "execute_result",
          "data": {
            "text/plain": [
              "{'text': 'I rented I AM CURIOUS-YELLOW from my video store because of all the controversy that surrounded it when it was first released in 1967. I also heard that at first it was seized by U.S. customs if it ever tried to enter this country, therefore being a fan of films considered \"controversial\" I really had to see this for myself.<br /><br />The plot is centered around a young Swedish drama student named Lena who wants to learn everything she can about life. In particular she wants to focus her attentions to making some sort of documentary on what the average Swede thought about certain political issues such as the Vietnam War and race issues in the United States. In between asking politicians and ordinary denizens of Stockholm about their opinions on politics, she has sex with her drama teacher, classmates, and married men.<br /><br />What kills me about I AM CURIOUS-YELLOW is that 40 years ago, this was considered pornographic. Really, the sex and nudity scenes are few and far between, even then it\\'s not shot like some cheaply made porno. While my countrymen mind find it shocking, in reality sex and nudity are a major staple in Swedish cinema. Even Ingmar Bergman, arguably their answer to good old boy John Ford, had sex scenes in his films.<br /><br />I do commend the filmmakers for the fact that any sex shown in the film is shown for artistic purposes rather than just to shock people and make money to be shown in pornographic theaters in America. I AM CURIOUS-YELLOW is a good film for anyone wanting to study the meat and potatoes (no pun intended) of Swedish cinema. But really, this film doesn\\'t have much of a plot.',\n",
              " 'label': 0}"
            ]
          },
          "metadata": {},
          "execution_count": 69
        }
      ]
    },
    {
      "cell_type": "markdown",
      "source": [
        "# **1.2 Tokenize you data or (Tokenization)**"
      ],
      "metadata": {
        "id": "lxfIO2vxwj9G"
      }
    },
    {
      "cell_type": "code",
      "source": [
        "tokenizer=torchtext.data.utils.get_tokenizer(\"basic_english\")"
      ],
      "metadata": {
        "id": "fhmhtGI0vB7J"
      },
      "execution_count": null,
      "outputs": []
    },
    {
      "cell_type": "code",
      "source": [
        "tokenizer(\"Hello world! How are you doing today? i a'm doing fantastic!\")"
      ],
      "metadata": {
        "colab": {
          "base_uri": "https://localhost:8080/"
        },
        "id": "TAvDOArqwvFg",
        "outputId": "89a48b6e-ef1e-4c92-e557-e516a329faf7"
      },
      "execution_count": null,
      "outputs": [
        {
          "output_type": "execute_result",
          "data": {
            "text/plain": [
              "['hello',\n",
              " 'world',\n",
              " '!',\n",
              " 'how',\n",
              " 'are',\n",
              " 'you',\n",
              " 'doing',\n",
              " 'today',\n",
              " '?',\n",
              " 'i',\n",
              " 'a',\n",
              " \"'\",\n",
              " 'm',\n",
              " 'doing',\n",
              " 'fantastic',\n",
              " '!']"
            ]
          },
          "metadata": {},
          "execution_count": 71
        }
      ]
    },
    {
      "cell_type": "markdown",
      "source": [
        "**notice it creates a token by splitting the word on spaces ,separating punctuation into its own token,and also lowercasing every word**"
      ],
      "metadata": {
        "id": "D9segCN6zaHq"
      }
    },
    {
      "cell_type": "code",
      "source": [
        "def tokenize_example(example,tokenizer,max_length):\n",
        "  tokens=tokenizer(example[\"text\"])[:max_length]\n",
        "  return { \"tokens\" : tokens}"
      ],
      "metadata": {
        "id": "4XxpDOopwvCp"
      },
      "execution_count": null,
      "outputs": []
    },
    {
      "cell_type": "markdown",
      "source": [
        "**it returns a dictionary with new feature name and value**"
      ],
      "metadata": {
        "id": "MB6rEdiX0PKG"
      }
    },
    {
      "cell_type": "markdown",
      "source": [
        "**some sentences are very long , so wee need tokens maximum of maX_Length , but we can predict sentiment with it**"
      ],
      "metadata": {
        "id": "lJOJs4gQz_v7"
      }
    },
    {
      "cell_type": "markdown",
      "source": [
        "by usng **map** we can apply a function to every **example** in the dataset and either update the example or create a new feature"
      ],
      "metadata": {
        "id": "a-Io_JLgJauy"
      }
    },
    {
      "cell_type": "markdown",
      "source": [
        "**The map()** function executes a specified function for each item in an iterable. The item is sent to the function as a parameter."
      ],
      "metadata": {
        "id": "SCXEEThCKOYJ"
      }
    },
    {
      "cell_type": "code",
      "source": [
        "max_length=256\n",
        "train_data=train_data.map(\n",
        "    tokenize_example,fn_kwargs={\"tokenizer\": tokenizer,\"max_length\":max_length}\n",
        ")\n",
        "test_data=test_data.map(\n",
        "    tokenize_example,fn_kwargs={\"tokenizer\": tokenizer,\"max_length\":max_length}\n",
        ")"
      ],
      "metadata": {
        "id": "7nxKBiMuwu-8"
      },
      "execution_count": null,
      "outputs": []
    },
    {
      "cell_type": "markdown",
      "source": [
        "We apply the **tokenize_example** function below, on both the train and test sets. Any arguments to the function -- that aren't the example -- need to be passed as the **fn_kwargs dictionary**, with the keys being the argument names and the **values** the value passed to that argument."
      ],
      "metadata": {
        "id": "ga-On42KKr1z"
      }
    },
    {
      "cell_type": "code",
      "source": [
        "train_data"
      ],
      "metadata": {
        "colab": {
          "base_uri": "https://localhost:8080/"
        },
        "id": "2tTNXcqrwu8C",
        "outputId": "1cc8f49b-b004-4c22-e800-8082ffb6364f"
      },
      "execution_count": null,
      "outputs": [
        {
          "output_type": "execute_result",
          "data": {
            "text/plain": [
              "Dataset({\n",
              "    features: ['text', 'label', 'tokens'],\n",
              "    num_rows: 25000\n",
              "})"
            ]
          },
          "metadata": {},
          "execution_count": 74
        }
      ]
    },
    {
      "cell_type": "markdown",
      "source": [
        "**train data has a token feature, as tokens was a key in the dictionary returned by the function we used for the map**"
      ],
      "metadata": {
        "id": "XRU-qGUh06H2"
      }
    },
    {
      "cell_type": "code",
      "source": [
        "train_data.features"
      ],
      "metadata": {
        "colab": {
          "base_uri": "https://localhost:8080/"
        },
        "id": "P3jEtEo0wusb",
        "outputId": "5f427cba-4ffa-4a47-8556-eb435714c57d"
      },
      "execution_count": null,
      "outputs": [
        {
          "output_type": "execute_result",
          "data": {
            "text/plain": [
              "{'text': Value(dtype='string', id=None),\n",
              " 'label': ClassLabel(names=['neg', 'pos'], id=None),\n",
              " 'tokens': Sequence(feature=Value(dtype='string', id=None), length=-1, id=None)}"
            ]
          },
          "metadata": {},
          "execution_count": 75
        }
      ]
    },
    {
      "cell_type": "markdown",
      "source": [
        "A **length=-1** means that all of our token sequences are not the same length"
      ],
      "metadata": {
        "id": "txPuxYiQ0t_F"
      }
    },
    {
      "cell_type": "code",
      "source": [
        "train_data[0][\"tokens\"][:25]"
      ],
      "metadata": {
        "colab": {
          "base_uri": "https://localhost:8080/"
        },
        "id": "fHUybIGqwupQ",
        "outputId": "b6ba4286-1e44-495a-9fa3-839568516017"
      },
      "execution_count": null,
      "outputs": [
        {
          "output_type": "execute_result",
          "data": {
            "text/plain": [
              "['i',\n",
              " 'rented',\n",
              " 'i',\n",
              " 'am',\n",
              " 'curious-yellow',\n",
              " 'from',\n",
              " 'my',\n",
              " 'video',\n",
              " 'store',\n",
              " 'because',\n",
              " 'of',\n",
              " 'all',\n",
              " 'the',\n",
              " 'controversy',\n",
              " 'that',\n",
              " 'surrounded',\n",
              " 'it',\n",
              " 'when',\n",
              " 'it',\n",
              " 'was',\n",
              " 'first',\n",
              " 'released',\n",
              " 'in',\n",
              " '1967',\n",
              " '.']"
            ]
          },
          "metadata": {},
          "execution_count": 76
        }
      ]
    },
    {
      "cell_type": "markdown",
      "source": [
        "# **1.3 Creating Validation Data**"
      ],
      "metadata": {
        "id": "h7AiqgzCyrvb"
      }
    },
    {
      "cell_type": "markdown",
      "source": [
        "![image.png](data:image/png;base64,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)"
      ],
      "metadata": {
        "id": "vXX8SVh51mhv"
      }
    },
    {
      "cell_type": "code",
      "source": [
        "test_size=0.25\n",
        "train_valid_data=train_data.train_test_split(test_size=test_size)\n",
        "train_data=train_valid_data[\"train\"]\n",
        "valid_data=train_valid_data[\"test\"]"
      ],
      "metadata": {
        "id": "h8LHFMUVwume"
      },
      "execution_count": null,
      "outputs": []
    },
    {
      "cell_type": "markdown",
      "source": [
        "**0.25 means 25% of the training set**"
      ],
      "metadata": {
        "id": "IRHwxx1o12jN"
      }
    },
    {
      "cell_type": "code",
      "source": [
        "len(train_data),len(valid_data),len(test_data)"
      ],
      "metadata": {
        "colab": {
          "base_uri": "https://localhost:8080/"
        },
        "id": "LBjGRlvUwujh",
        "outputId": "cd8656ef-1e9b-4102-95b7-f4c22b0c3289"
      },
      "execution_count": null,
      "outputs": [
        {
          "output_type": "execute_result",
          "data": {
            "text/plain": [
              "(18750, 6250, 25000)"
            ]
          },
          "metadata": {},
          "execution_count": 78
        }
      ]
    },
    {
      "cell_type": "markdown",
      "source": [
        "# **1.4 Creating a Vocabulary**"
      ],
      "metadata": {
        "id": "wwQsiSQr2G-H"
      }
    },
    {
      "cell_type": "markdown",
      "source": [
        "this is a lookup table where every unique token in yur dataset has corresponding index(integer)"
      ],
      "metadata": {
        "id": "mo88EkzwL8sK"
      }
    },
    {
      "cell_type": "markdown",
      "source": [
        "**becuase models need data into numbers**"
      ],
      "metadata": {
        "id": "qO-YAk-qMIeS"
      }
    },
    {
      "cell_type": "code",
      "source": [
        "min_freq=5\n",
        "special_tokens=[\"<unk>\",\"<pad>\"]\n",
        "\n",
        "vocab=torchtext.vocab.build_vocab_from_iterator(\n",
        "    train_data[\"tokens\"],\n",
        "    min_freq=min_freq,\n",
        "    specials=special_tokens,\n",
        ")"
      ],
      "metadata": {
        "id": "Ymx0gMMnwuhG"
      },
      "execution_count": null,
      "outputs": []
    },
    {
      "cell_type": "markdown",
      "source": [
        "we use the **build_vocab_from_iterator** function from **torchtext.vocab** to create our vocabulary,specifying<br>\n",
        "1. **min_freq**(the minimum amount of times a token should apper to be added to the vocabulary)\n",
        "2. **special tokens** (tokens which should be appended to the start of the vocabulary ,even if they don't appear min_freq times in the dataset)"
      ],
      "metadata": {
        "id": "zA_KORhYM0cA"
      }
    },
    {
      "cell_type": "markdown",
      "source": [
        "**special tokens**<br>\n",
        "1. **< unk >** : it isour unkown token , it will replace tokens who appear  less than 5 times\n",
        "2. **< pad >** : use for padding sentences"
      ],
      "metadata": {
        "id": "NzkHZtsnN0oa"
      }
    },
    {
      "cell_type": "markdown",
      "source": [
        "**why add pad?**<br>\n",
        "When we feed sentences into our model, we pass a batch of sentences, i.e. more than one, at the same time. Passing a batch of sentences is preferred to passing sentences one at a time as it allows our model to perform computation on all sentences within a batch in paralle, thus speeding up the time taken to train and evaluate our model. All sentences within a batch need to be the same length (in terms of the number of tokens). Thus, to ensure each sentence is the same length, any shorter than the longest sentence need to have padding tokens appended to the end of them."
      ],
      "metadata": {
        "id": "Bkt4zyx_OlZ2"
      }
    },
    {
      "cell_type": "code",
      "source": [
        "len(vocab)"
      ],
      "metadata": {
        "colab": {
          "base_uri": "https://localhost:8080/"
        },
        "id": "5UxU-vStwueG",
        "outputId": "702ee3e6-ec8c-4ccf-8da2-2de5e508b54b"
      },
      "execution_count": null,
      "outputs": [
        {
          "output_type": "execute_result",
          "data": {
            "text/plain": [
              "21550"
            ]
          },
          "metadata": {},
          "execution_count": 80
        }
      ]
    },
    {
      "cell_type": "markdown",
      "source": [
        "We can view the tokens in our vocabulary using the **get_itos**(**integer to string**) method, which returns a** list of strings (tokens)**, and the **index of each token** in the list is the index of the token in our vocabulary."
      ],
      "metadata": {
        "id": "wR6UdJjNPF8V"
      }
    },
    {
      "cell_type": "code",
      "source": [
        "vocab.get_itos()[:10]"
      ],
      "metadata": {
        "colab": {
          "base_uri": "https://localhost:8080/"
        },
        "id": "q3px0E1u2nMU",
        "outputId": "7d748a08-93aa-452b-9e73-64d59cd4307c"
      },
      "execution_count": null,
      "outputs": [
        {
          "output_type": "execute_result",
          "data": {
            "text/plain": [
              "['<unk>', '<pad>', 'the', '.', ',', 'a', 'and', 'of', 'to', \"'\"]"
            ]
          },
          "metadata": {},
          "execution_count": 81
        }
      ]
    },
    {
      "cell_type": "code",
      "source": [
        "vocab[\"and\"]"
      ],
      "metadata": {
        "colab": {
          "base_uri": "https://localhost:8080/"
        },
        "id": "q3I1I_dn2vYl",
        "outputId": "ab096331-3e96-4e2d-fbd3-692822b57434"
      },
      "execution_count": null,
      "outputs": [
        {
          "output_type": "execute_result",
          "data": {
            "text/plain": [
              "6"
            ]
          },
          "metadata": {},
          "execution_count": 82
        }
      ]
    },
    {
      "cell_type": "markdown",
      "source": [
        "We store the indices of the unknown and padding tokens (zero and one, respectively) in variables, as we'll use these further on in this notebook."
      ],
      "metadata": {
        "id": "tcSxvcd9Pg_r"
      }
    },
    {
      "cell_type": "code",
      "source": [
        "unk_index=vocab[\"<unk>\"]\n",
        "pad_index=vocab[\"<pad>\"]"
      ],
      "metadata": {
        "id": "ZSjCudZc2x4p"
      },
      "execution_count": null,
      "outputs": []
    },
    {
      "cell_type": "markdown",
      "source": [
        "We can check if a token is in our vocabulary using the **in** operator."
      ],
      "metadata": {
        "id": "acxXEP3vPlMl"
      }
    },
    {
      "cell_type": "code",
      "source": [
        "\"some_token\" in vocab"
      ],
      "metadata": {
        "colab": {
          "base_uri": "https://localhost:8080/"
        },
        "id": "McNII4K627kT",
        "outputId": "afb0ee26-733b-4d9a-ed6b-014a8b3ff8c3"
      },
      "execution_count": null,
      "outputs": [
        {
          "output_type": "execute_result",
          "data": {
            "text/plain": [
              "False"
            ]
          },
          "metadata": {},
          "execution_count": 84
        }
      ]
    },
    {
      "cell_type": "markdown",
      "source": [
        "By default, a vocabulary created by torchtext will throw an error if you attempt to obtain the index of a token which is not in the vocabulary, i.e. vocab[\"some_token\"] will throw an error."
      ],
      "metadata": {
        "id": "8DNwuZDFP2Rc"
      }
    },
    {
      "cell_type": "code",
      "source": [
        "vocab[\"some_token\"]"
      ],
      "metadata": {
        "id": "WI6tgnuxP1h-"
      },
      "execution_count": null,
      "outputs": []
    },
    {
      "cell_type": "markdown",
      "source": [
        "We need to explicity tell the vocabulary which token to return if we pass a token not in the vocabulary. We do this using the **set_default_index** method, passing in the index we wish it to return. Here, we pass the index of the unknown token."
      ],
      "metadata": {
        "id": "PeA1QdgLP_Ok"
      }
    },
    {
      "cell_type": "code",
      "source": [
        "vocab.set_default_index(unk_index)"
      ],
      "metadata": {
        "id": "osxmqqtx2_cm"
      },
      "execution_count": null,
      "outputs": []
    },
    {
      "cell_type": "markdown",
      "source": [
        "Now, when trying to get the index of a token that is not in the vocabulary, instead of throwing an error we get zero, the value of unk_index, our unknown token, **< unk >**."
      ],
      "metadata": {
        "id": "yScKTl_XQI-0"
      }
    },
    {
      "cell_type": "code",
      "source": [
        "vocab[\"some_token\"]"
      ],
      "metadata": {
        "colab": {
          "base_uri": "https://localhost:8080/"
        },
        "id": "-ujzzGAl3GOY",
        "outputId": "d9dd3f56-376e-498f-b6fe-00763fc3b76d"
      },
      "execution_count": null,
      "outputs": [
        {
          "output_type": "execute_result",
          "data": {
            "text/plain": [
              "0"
            ]
          },
          "metadata": {},
          "execution_count": 86
        }
      ]
    },
    {
      "cell_type": "markdown",
      "source": [
        "To look-up a list of tokens, we can use the vocabulary's **lookup_indices** method."
      ],
      "metadata": {
        "id": "SMs_oTa0QPjV"
      }
    },
    {
      "cell_type": "code",
      "source": [
        "vocab.lookup_indices([\"hello\",\"world\",\"some_token\",\"<pad>\"])"
      ],
      "metadata": {
        "colab": {
          "base_uri": "https://localhost:8080/"
        },
        "id": "fXoSiScB3Kq5",
        "outputId": "e06dcf34-74df-46c4-ebe9-2359f98e8de4"
      },
      "execution_count": null,
      "outputs": [
        {
          "output_type": "execute_result",
          "data": {
            "text/plain": [
              "[5256, 188, 0, 1]"
            ]
          },
          "metadata": {},
          "execution_count": 87
        }
      ]
    },
    {
      "cell_type": "markdown",
      "source": [
        "# **1.5 Numericalizing Our Data**"
      ],
      "metadata": {
        "id": "Uh25zsiw3Zx0"
      }
    },
    {
      "cell_type": "markdown",
      "source": [
        "Now we have our vocabulary, we can numericalize our data. This involves converting the tokens within our dataset into indices. Similar to how we tokenized our data using the **Dataset.map** method, we'll define a function that takes an example and our vocabulary, gets the index for each token in each example and then creates an ids field which containes the numericalized tokens."
      ],
      "metadata": {
        "id": "ucRFZZwNQcps"
      }
    },
    {
      "cell_type": "code",
      "source": [
        "def numericalize_example(example,vocab):\n",
        "  ids=vocab.lookup_indices(example[\"tokens\"])\n",
        "  return { \"ids\" : ids}"
      ],
      "metadata": {
        "id": "FEX1bcKn3V_g"
      },
      "execution_count": null,
      "outputs": []
    },
    {
      "cell_type": "markdown",
      "source": [
        "We then apply this function to all examples in the training, validation and testing datasets."
      ],
      "metadata": {
        "id": "Q1MtjbCDQoay"
      }
    },
    {
      "cell_type": "code",
      "source": [
        "train_data=train_data.map(numericalize_example,fn_kwargs={\"vocab\":vocab})\n",
        "valid_data=valid_data.map(numericalize_example,fn_kwargs={\"vocab\":vocab})\n",
        "test_data=test_data.map(numericalize_example,fn_kwargs={\"vocab\":vocab})"
      ],
      "metadata": {
        "colab": {
          "base_uri": "https://localhost:8080/",
          "height": 113,
          "referenced_widgets": [
            "28c7042fbf27482582387ab1db25feda",
            "2237f3db21344d6baf7ef34a5b6d3ec0",
            "8e48aa4216e14054977e0a4fb9240fc1",
            "a5b3880e3b6c41e8931386eb6e2be1eb",
            "c13fa36cb8644df5bc85f53fcac58259",
            "b89847bf8f5c418ba19e28900e5797ed",
            "261284f552304da3b9cbbe900a829f1e",
            "909b962926094db08062bdb81c0f9a94",
            "cc84dff342894ba7a7e55e4503c639d4",
            "da6b9e4e70484e8083038d001748450f",
            "c133a3d3a98244a2aa29c58eb817709f",
            "90df975e37e84f89a63e6c89e511e90f",
            "460aa483cc314a6f843416ae3736e325",
            "bbf44c72e07543de9121e3b011ca6dbf",
            "ee42257bd5a143d4a30a3bc009adae9e",
            "77e4a0a4a73a4e54b96e7305ac91e835",
            "29a4e8b78a0b495582f44f6a5bda6c2c",
            "1cfaded07d4c429f848ee1f78b4bcc84",
            "742e8dbd44594158a08d7d73133b12bb",
            "163edde7154a490f87158ea2abdffbb7",
            "7fd019c438f645078aac408cf44cd054",
            "d81f58a7cf174d24a7104ac7f5047945",
            "d8c11724fabd401a9c1cafbf63aced0b",
            "92afb23f715b43d297bbd322b4992f77",
            "b44d36ea29474db28d40427071d83d42",
            "ce1e45caa2044a8fb2d5500680a56d14",
            "01482d4995ef47da97d2a6397301735a",
            "187b5d9022214f9da749f34bba13ce40",
            "4217e87370d340bbb7199b6c7051c36c",
            "147babf9aebb400ea3bca1dba177e1d0",
            "e4f945b9723c4be38b074504349b7022",
            "3538460b86454d459d373ab47c507c30",
            "9f9e8356e0df499a92c96f6ae9574899"
          ]
        },
        "id": "o4eVGNPL3tjD",
        "outputId": "58d91da3-4d7c-4f77-9df1-ed3697738362"
      },
      "execution_count": null,
      "outputs": [
        {
          "output_type": "display_data",
          "data": {
            "text/plain": [
              "Map:   0%|          | 0/18750 [00:00<?, ? examples/s]"
            ],
            "application/vnd.jupyter.widget-view+json": {
              "version_major": 2,
              "version_minor": 0,
              "model_id": "28c7042fbf27482582387ab1db25feda"
            }
          },
          "metadata": {}
        },
        {
          "output_type": "display_data",
          "data": {
            "text/plain": [
              "Map:   0%|          | 0/6250 [00:00<?, ? examples/s]"
            ],
            "application/vnd.jupyter.widget-view+json": {
              "version_major": 2,
              "version_minor": 0,
              "model_id": "90df975e37e84f89a63e6c89e511e90f"
            }
          },
          "metadata": {}
        },
        {
          "output_type": "display_data",
          "data": {
            "text/plain": [
              "Map:   0%|          | 0/25000 [00:00<?, ? examples/s]"
            ],
            "application/vnd.jupyter.widget-view+json": {
              "version_major": 2,
              "version_minor": 0,
              "model_id": "d8c11724fabd401a9c1cafbf63aced0b"
            }
          },
          "metadata": {}
        }
      ]
    },
    {
      "cell_type": "code",
      "source": [
        "train_data"
      ],
      "metadata": {
        "colab": {
          "base_uri": "https://localhost:8080/"
        },
        "id": "tnFcVEQ04sxs",
        "outputId": "75ff7691-be8e-47e1-ad20-6bd528b4e59f"
      },
      "execution_count": null,
      "outputs": [
        {
          "output_type": "execute_result",
          "data": {
            "text/plain": [
              "Dataset({\n",
              "    features: ['text', 'label', 'tokens', 'ids'],\n",
              "    num_rows: 18750\n",
              "})"
            ]
          },
          "metadata": {},
          "execution_count": 90
        }
      ]
    },
    {
      "cell_type": "code",
      "source": [
        "train_data[0][\"tokens\"][:10]"
      ],
      "metadata": {
        "colab": {
          "base_uri": "https://localhost:8080/"
        },
        "id": "lFsysu2F3wat",
        "outputId": "1dc58991-107b-4908-c57d-07fb0e358a8b"
      },
      "execution_count": null,
      "outputs": [
        {
          "output_type": "execute_result",
          "data": {
            "text/plain": [
              "['an',\n",
              " 'excellent',\n",
              " 'and',\n",
              " 'accurate',\n",
              " 'film',\n",
              " '.',\n",
              " '.',\n",
              " '.',\n",
              " 'mcgovern',\n",
              " 'takes']"
            ]
          },
          "metadata": {},
          "execution_count": 91
        }
      ]
    },
    {
      "cell_type": "markdown",
      "source": [
        "Checking an example, we can see that the id field now consists of the indexes of the tokens from that example."
      ],
      "metadata": {
        "id": "DD_7pyXMQyN7"
      }
    },
    {
      "cell_type": "code",
      "source": [
        "vocab.lookup_indices(train_data[0][\"tokens\"][:10])"
      ],
      "metadata": {
        "colab": {
          "base_uri": "https://localhost:8080/"
        },
        "id": "58w9DnmS3wXc",
        "outputId": "c7c6bb37-89ba-4b0c-f157-8efe30f1d9ab"
      },
      "execution_count": null,
      "outputs": [
        {
          "output_type": "execute_result",
          "data": {
            "text/plain": [
              "[42, 302, 6, 1624, 23, 3, 3, 3, 13656, 317]"
            ]
          },
          "metadata": {},
          "execution_count": 92
        }
      ]
    },
    {
      "cell_type": "code",
      "source": [
        "train_data[0]['ids'][:10]"
      ],
      "metadata": {
        "colab": {
          "base_uri": "https://localhost:8080/"
        },
        "id": "qDqkxuUF3wTC",
        "outputId": "c4f78939-0180-4913-ddc2-753abc05c9bf"
      },
      "execution_count": null,
      "outputs": [
        {
          "output_type": "execute_result",
          "data": {
            "text/plain": [
              "[42, 302, 6, 1624, 23, 3, 3, 3, 13656, 317]"
            ]
          },
          "metadata": {},
          "execution_count": 93
        }
      ]
    },
    {
      "cell_type": "markdown",
      "source": [
        "# **1.6 Converting into tensors**"
      ],
      "metadata": {
        "id": "NTQkA5Qo4-W2"
      }
    },
    {
      "cell_type": "markdown",
      "source": [
        "The final step of numericalization is transforming the ids and label from integers into PyTorch tensors, which we do using the with_format method.\n",
        "\n",
        "We do this because our PyTorch models work with tensors, and not integers."
      ],
      "metadata": {
        "id": "rr1R4hlVQ3y1"
      }
    },
    {
      "cell_type": "code",
      "source": [
        "train_data"
      ],
      "metadata": {
        "colab": {
          "base_uri": "https://localhost:8080/"
        },
        "id": "Qa_7orA15luL",
        "outputId": "b25f4408-0b54-4fd6-ab20-1c8deabd9fbe"
      },
      "execution_count": null,
      "outputs": [
        {
          "output_type": "execute_result",
          "data": {
            "text/plain": [
              "Dataset({\n",
              "    features: ['text', 'label', 'tokens', 'ids'],\n",
              "    num_rows: 18750\n",
              "})"
            ]
          },
          "metadata": {},
          "execution_count": 94
        }
      ]
    },
    {
      "cell_type": "code",
      "source": [
        "train_data=train_data.with_format(type=\"torch\",columns=[\"ids\",\"label\"])\n",
        "valid_data=valid_data.with_format(type=\"torch\",columns=[\"ids\",\"label\"])\n",
        "test_data=test_data.with_format(type=\"torch\",columns=[\"ids\",\"label\"])"
      ],
      "metadata": {
        "id": "lIzwej303wPR"
      },
      "execution_count": null,
      "outputs": []
    },
    {
      "cell_type": "code",
      "source": [
        "train_data[0][\"label\"]"
      ],
      "metadata": {
        "colab": {
          "base_uri": "https://localhost:8080/"
        },
        "id": "EiV8lCQp3wHp",
        "outputId": "9f673097-7f67-408e-b582-e56f202c8bc3"
      },
      "execution_count": null,
      "outputs": [
        {
          "output_type": "execute_result",
          "data": {
            "text/plain": [
              "tensor(1)"
            ]
          },
          "metadata": {},
          "execution_count": 96
        }
      ]
    },
    {
      "cell_type": "code",
      "source": [
        "train_data[0][\"ids\"][:10]"
      ],
      "metadata": {
        "colab": {
          "base_uri": "https://localhost:8080/"
        },
        "id": "CTkI_1i03wCd",
        "outputId": "7c7f38f8-a2f5-4091-8947-860c30ee8132"
      },
      "execution_count": null,
      "outputs": [
        {
          "output_type": "execute_result",
          "data": {
            "text/plain": [
              "tensor([   42,   302,     6,  1624,    23,     3,     3,     3, 13656,   317])"
            ]
          },
          "metadata": {},
          "execution_count": 97
        }
      ]
    },
    {
      "cell_type": "markdown",
      "source": [
        "One thing to note is that when using **with_format**, all the columns not specified (\"**tokens**\" and \"**text**\") are removed from the example."
      ],
      "metadata": {
        "id": "VCgTQWghRM8Z"
      }
    },
    {
      "cell_type": "code",
      "source": [
        "train_data[0].keys()"
      ],
      "metadata": {
        "colab": {
          "base_uri": "https://localhost:8080/"
        },
        "id": "TL_5GMpR3v_C",
        "outputId": "5aaf7c14-88ec-4712-cf5b-79a8b11a4891"
      },
      "execution_count": null,
      "outputs": [
        {
          "output_type": "execute_result",
          "data": {
            "text/plain": [
              "dict_keys(['label', 'ids'])"
            ]
          },
          "metadata": {},
          "execution_count": 98
        }
      ]
    },
    {
      "cell_type": "markdown",
      "source": [
        "Removing the \"tokens\" field is fine, as if we wanted to retrieve the human-readable tokens again we can simply convert the tensor into a Python list of integers and then use the vocabulary's **lookup_tokens** method."
      ],
      "metadata": {
        "id": "tg5EdDEARXc1"
      }
    },
    {
      "cell_type": "code",
      "source": [
        "vocab.lookup_tokens(train_data[0][\"ids\"][:10].tolist())"
      ],
      "metadata": {
        "colab": {
          "base_uri": "https://localhost:8080/"
        },
        "id": "AMN9xyp13v3J",
        "outputId": "ec570d6e-19f7-40cd-cb33-3f6e1a08104d"
      },
      "execution_count": null,
      "outputs": [
        {
          "output_type": "execute_result",
          "data": {
            "text/plain": [
              "['an',\n",
              " 'excellent',\n",
              " 'and',\n",
              " 'accurate',\n",
              " 'film',\n",
              " '.',\n",
              " '.',\n",
              " '.',\n",
              " 'mcgovern',\n",
              " 'takes']"
            ]
          },
          "metadata": {},
          "execution_count": 99
        }
      ]
    },
    {
      "cell_type": "markdown",
      "source": [
        "# **1.7 Creating Data Loaders**"
      ],
      "metadata": {
        "id": "Y6Fq-9PW6QVK"
      }
    },
    {
      "cell_type": "markdown",
      "source": [
        "The final step of preparing the data is creating the data loaders. We can iterate over a data loader to retrieve batches of examples. This is also where we will perform **any padding that is necessary**."
      ],
      "metadata": {
        "id": "nYO51XbXRhqa"
      }
    },
    {
      "cell_type": "code",
      "source": [
        "def get_collate_fn(pad_index):\n",
        "    def collate_fn(batch):\n",
        "        batch_ids = [i[\"ids\"] for i in batch]\n",
        "        batch_ids = nn.utils.rnn.pad_sequence(\n",
        "            batch_ids, padding_value=pad_index, batch_first=True\n",
        "        )\n",
        "        batch_label = [i[\"label\"] for i in batch]\n",
        "        batch_label = torch.stack(batch_label)\n",
        "        batch = {\"ids\": batch_ids, \"label\": batch_label}\n",
        "        return batch\n",
        "\n",
        "    return collate_fn\n"
      ],
      "metadata": {
        "id": "VrP0gWil3vzV"
      },
      "execution_count": null,
      "outputs": []
    },
    {
      "cell_type": "markdown",
      "source": [
        "1. Here, our desired output from the data loader is a dictionary with keys of \"**ids**\" and \"**label**\"."
      ],
      "metadata": {
        "id": "vYl8e7pGR62E"
      }
    },
    {
      "cell_type": "markdown",
      "source": [
        "2. The value of **batch[\"ids\"]** should be a tensor of shape **[batch size, length]**, where **length** is the length of the longest sentence (in terms of tokens) within the batch, and **all sentences shorter than this should be padded to that length.**"
      ],
      "metadata": {
        "id": "RDVbK2rvSMu1"
      }
    },
    {
      "cell_type": "markdown",
      "source": [
        "3. The value of **batch[\"label\"]** should be a tensor of **shape [batch size]** consisting of the label for each sentence in the batch"
      ],
      "metadata": {
        "id": "UDMNhtv5Sfpq"
      }
    },
    {
      "cell_type": "markdown",
      "source": [
        "1. We define a function, **get_collate_fn**, which is passed the pad token index and returns the actual collate function.\n",
        "2.  Within the **actual collate function**, **collate_fn**, we get a **list of \"ids\"** tensors for each example in the batch, and then use the **pad_sequence **function, which converts the list of tensors into the desired **[batch size, length]** shaped tensor and performs padding using the specified **pad_index**. 3. By default, pad_sequence will return a **[length, batch size]** shaped tensor, but by setting **batch_first=True**, these two dimensions are switched. We get a list of \"label\" tensors and convert the list of tensors into a single **[batch size]** shaped tensor."
      ],
      "metadata": {
        "id": "bjNHUEiNTFdE"
      }
    },
    {
      "cell_type": "code",
      "source": [
        "def get_data_loader(dataset, batch_size, pad_index, shuffle=False):\n",
        "    collate_fn = get_collate_fn(pad_index)\n",
        "    data_loader = torch.utils.data.DataLoader(\n",
        "        dataset=dataset,\n",
        "        batch_size=batch_size,\n",
        "        collate_fn=collate_fn,\n",
        "        shuffle=shuffle,\n",
        "    )\n",
        "    return data_loader\n"
      ],
      "metadata": {
        "id": "SzbtDd2O3vwO"
      },
      "execution_count": null,
      "outputs": []
    },
    {
      "cell_type": "markdown",
      "source": [
        "Next, **we define a function which returns our actual data loader**. It takes in a dataset, desired batch size (the number of sentences we want in a batch), our padding token index, and if the dataset should be shuffled."
      ],
      "metadata": {
        "id": "A50mzZE-T2SB"
      }
    },
    {
      "cell_type": "code",
      "source": [
        "batch_size = 512\n",
        "\n",
        "train_data_loader = get_data_loader(train_data, batch_size, pad_index, shuffle=True)\n",
        "valid_data_loader = get_data_loader(valid_data, batch_size, pad_index)\n",
        "test_data_loader = get_data_loader(test_data, batch_size, pad_index)\n"
      ],
      "metadata": {
        "id": "vD1rbKsm3vsi"
      },
      "execution_count": null,
      "outputs": []
    },
    {
      "cell_type": "markdown",
      "source": [
        "Finally, we get the data loaders for the training, validation and test data.\n",
        "\n",
        "We set the batch size equal to 512. Our batch size should be set as high as we can, as larger batches means more parallel computation, less compute time, and thus faster training and evaluation.\n",
        "\n",
        "Only the training data loader needs to be shuffled, as it's the only one used to actually tune the parameters within the model, and your training data should always be shuffled."
      ],
      "metadata": {
        "id": "Jplqt5qOUGpL"
      }
    },
    {
      "cell_type": "code",
      "source": [
        "len(train_data_loader)"
      ],
      "metadata": {
        "colab": {
          "base_uri": "https://localhost:8080/"
        },
        "id": "CEs2qrWm3vo_",
        "outputId": "f0b7202b-3371-4d31-f5c5-2a4ed911e9bb"
      },
      "execution_count": null,
      "outputs": [
        {
          "output_type": "execute_result",
          "data": {
            "text/plain": [
              "37"
            ]
          },
          "metadata": {},
          "execution_count": 103
        }
      ]
    },
    {
      "cell_type": "markdown",
      "source": [
        "# **2. Build the Model**"
      ],
      "metadata": {
        "id": "3reX3pra9nLy"
      }
    },
    {
      "cell_type": "code",
      "source": [
        "class NBoW(nn.Module):\n",
        "  def __init__(self,vocab_size,embedding_dim,output_dim,pad_index):\n",
        "    super().__init__()\n",
        "    self.embedding=nn.Embedding(vocab_size,embedding_dim,padding_idx=pad_index)\n",
        "    self.fc=nn.Linear(embedding_dim,output_dim)\n",
        "\n",
        "  def forward(self,ids):\n",
        "    #ids = [Batch size , seq len]\n",
        "    embedded=self.embedding(ids)\n",
        "    #embedded=[batch size,seq len , embedding dim]\n",
        "    pooled=embedded.mean(dim=1)\n",
        "    #pooled = [batch size ,embedding dim]\n",
        "    prediction=self.fc(pooled)\n",
        "    #prediction = [batch size ,output dim]\n",
        "    return prediction\n"
      ],
      "metadata": {
        "id": "GHA0UiIo8z9K"
      },
      "execution_count": null,
      "outputs": []
    },
    {
      "cell_type": "code",
      "source": [
        "vocab_size=len(vocab)\n",
        "embedding_dim=300\n",
        "output_dim=len(train_data.unique(\"label\"))\n",
        "model=NBoW(vocab_size,embedding_dim,output_dim,pad_index)"
      ],
      "metadata": {
        "id": "Ljn3kek8-Rpz"
      },
      "execution_count": null,
      "outputs": []
    },
    {
      "cell_type": "code",
      "source": [
        "len(vocab)"
      ],
      "metadata": {
        "colab": {
          "base_uri": "https://localhost:8080/"
        },
        "id": "IIM0xKVt_9YT",
        "outputId": "bdc562ff-d641-4cff-e92d-d5f912cdcf1e"
      },
      "execution_count": null,
      "outputs": [
        {
          "output_type": "execute_result",
          "data": {
            "text/plain": [
              "21550"
            ]
          },
          "metadata": {},
          "execution_count": 106
        }
      ]
    },
    {
      "cell_type": "code",
      "source": [
        "len(train_data.unique(\"label\"))"
      ],
      "metadata": {
        "colab": {
          "base_uri": "https://localhost:8080/"
        },
        "id": "g88nK13oADWt",
        "outputId": "cda552e4-d6df-47ac-e7da-1323037e2116"
      },
      "execution_count": null,
      "outputs": [
        {
          "output_type": "execute_result",
          "data": {
            "text/plain": [
              "2"
            ]
          },
          "metadata": {},
          "execution_count": 107
        }
      ]
    },
    {
      "cell_type": "code",
      "source": [
        "def count_parameters(model):\n",
        "  return sum(p.numel() for p in model.parameters() if p.requires_grad)\n",
        "print(f\"the model has { count_parameters(model):,} trainable parameters\")"
      ],
      "metadata": {
        "colab": {
          "base_uri": "https://localhost:8080/"
        },
        "id": "T7-YT7Qq-Rle",
        "outputId": "09e0d8e9-bf37-4549-91cb-ef56170e4a68"
      },
      "execution_count": null,
      "outputs": [
        {
          "output_type": "stream",
          "name": "stdout",
          "text": [
            "the model has 6,465,602 trainable parameters\n"
          ]
        }
      ]
    },
    {
      "cell_type": "code",
      "source": [
        "vectors=torchtext.vocab.GloVe()"
      ],
      "metadata": {
        "colab": {
          "base_uri": "https://localhost:8080/"
        },
        "id": "L0zK7toE-Rg2",
        "outputId": "a8a6a968-4f44-486d-b423-5cbd1b3a0f51"
      },
      "execution_count": null,
      "outputs": [
        {
          "output_type": "stream",
          "name": "stderr",
          "text": [
            ".vector_cache/glove.840B.300d.zip: 2.18GB [06:50, 5.30MB/s]                            \n",
            "100%|█████████▉| 2196016/2196017 [06:05<00:00, 6013.83it/s]\n"
          ]
        }
      ]
    },
    {
      "cell_type": "code",
      "source": [
        "hello_vector=vectors.get_vecs_by_tokens(\"hello\")"
      ],
      "metadata": {
        "id": "x4T5GfZH-Rdu"
      },
      "execution_count": null,
      "outputs": []
    },
    {
      "cell_type": "code",
      "source": [
        "hello_vector.shape"
      ],
      "metadata": {
        "colab": {
          "base_uri": "https://localhost:8080/"
        },
        "id": "-TEuj3np-RZ7",
        "outputId": "520234f7-b7e0-4894-bc62-f90fb2fecdba"
      },
      "execution_count": null,
      "outputs": [
        {
          "output_type": "execute_result",
          "data": {
            "text/plain": [
              "torch.Size([300])"
            ]
          },
          "metadata": {},
          "execution_count": 113
        }
      ]
    },
    {
      "cell_type": "code",
      "source": [
        "hello_vector[:32]"
      ],
      "metadata": {
        "colab": {
          "base_uri": "https://localhost:8080/"
        },
        "id": "QAkxAZB8-RWj",
        "outputId": "9978edb5-fbc5-46cb-951b-f0cf481eb77e"
      },
      "execution_count": null,
      "outputs": [
        {
          "output_type": "execute_result",
          "data": {
            "text/plain": [
              "tensor([ 0.2523,  0.1018, -0.6748,  0.2112,  0.4349,  0.1654,  0.4826, -0.8122,\n",
              "         0.0413,  0.7850, -0.0779, -0.6632,  0.1464, -0.2929, -0.2549,  0.0193,\n",
              "        -0.2026,  0.9823,  0.0283, -0.0813, -0.1214,  0.1313, -0.1765,  0.1356,\n",
              "        -0.1636, -0.2257,  0.0550, -0.2031,  0.2072,  0.0958,  0.2248,  0.2154])"
            ]
          },
          "metadata": {},
          "execution_count": 114
        }
      ]
    },
    {
      "cell_type": "code",
      "source": [
        "pretrained_embedding=vectors.get_vecs_by_tokens(vocab.get_itos())"
      ],
      "metadata": {
        "id": "l1DJ4-Px-RS3"
      },
      "execution_count": null,
      "outputs": []
    },
    {
      "cell_type": "code",
      "source": [
        "pretrained_embedding.shape"
      ],
      "metadata": {
        "colab": {
          "base_uri": "https://localhost:8080/"
        },
        "id": "YjLywmev-RPQ",
        "outputId": "17e51239-25ff-49f3-c77f-b7b52fb317be"
      },
      "execution_count": null,
      "outputs": [
        {
          "output_type": "execute_result",
          "data": {
            "text/plain": [
              "torch.Size([21550, 300])"
            ]
          },
          "metadata": {},
          "execution_count": 116
        }
      ]
    },
    {
      "cell_type": "code",
      "source": [
        "model.embedding.weight"
      ],
      "metadata": {
        "colab": {
          "base_uri": "https://localhost:8080/"
        },
        "id": "Uto4GVvX-RLp",
        "outputId": "eceeb722-95c8-4de7-faaf-8675b81559a7"
      },
      "execution_count": null,
      "outputs": [
        {
          "output_type": "execute_result",
          "data": {
            "text/plain": [
              "Parameter containing:\n",
              "tensor([[-1.3056,  0.9889, -0.4164,  ...,  1.0188,  1.7216,  2.1897],\n",
              "        [ 0.0000,  0.0000,  0.0000,  ...,  0.0000,  0.0000,  0.0000],\n",
              "        [-0.2659,  2.1271,  0.8047,  ...,  0.7559,  0.7197,  0.7403],\n",
              "        ...,\n",
              "        [-1.3947,  0.2654,  1.4428,  ..., -0.0318, -0.5026,  1.6228],\n",
              "        [ 2.5107, -1.5741,  0.4244,  ...,  1.3890,  0.1927, -1.0740],\n",
              "        [ 0.3918, -0.8089,  0.6667,  ...,  2.0093,  0.3645, -1.3529]],\n",
              "       requires_grad=True)"
            ]
          },
          "metadata": {},
          "execution_count": 117
        }
      ]
    },
    {
      "cell_type": "code",
      "source": [
        "pretrained_embedding"
      ],
      "metadata": {
        "colab": {
          "base_uri": "https://localhost:8080/"
        },
        "id": "Xq2YTikuIEIh",
        "outputId": "bfde9ea8-b0c5-47ca-ecb4-3f440ed04a22"
      },
      "execution_count": null,
      "outputs": [
        {
          "output_type": "execute_result",
          "data": {
            "text/plain": [
              "tensor([[ 0.0000,  0.0000,  0.0000,  ...,  0.0000,  0.0000,  0.0000],\n",
              "        [ 0.0000,  0.0000,  0.0000,  ...,  0.0000,  0.0000,  0.0000],\n",
              "        [ 0.2720, -0.0620, -0.1884,  ...,  0.1302, -0.1832,  0.1323],\n",
              "        ...,\n",
              "        [ 0.0000,  0.0000,  0.0000,  ...,  0.0000,  0.0000,  0.0000],\n",
              "        [ 0.1349,  0.1143,  0.2112,  ...,  0.3040, -0.6853,  0.2070],\n",
              "        [-0.1503,  0.5624, -0.5622,  ..., -0.4224, -0.6836,  0.0726]])"
            ]
          },
          "metadata": {},
          "execution_count": 118
        }
      ]
    },
    {
      "cell_type": "code",
      "source": [
        "model.embedding.weight.data=pretrained_embedding"
      ],
      "metadata": {
        "id": "bbfrbXzgIEEh"
      },
      "execution_count": null,
      "outputs": []
    },
    {
      "cell_type": "code",
      "source": [
        "model.embedding.weight"
      ],
      "metadata": {
        "colab": {
          "base_uri": "https://localhost:8080/"
        },
        "id": "cV86STlYIEAX",
        "outputId": "d0fe90a2-7eec-449d-bbb4-04c8d9e7cc27"
      },
      "execution_count": null,
      "outputs": [
        {
          "output_type": "execute_result",
          "data": {
            "text/plain": [
              "Parameter containing:\n",
              "tensor([[ 0.0000,  0.0000,  0.0000,  ...,  0.0000,  0.0000,  0.0000],\n",
              "        [ 0.0000,  0.0000,  0.0000,  ...,  0.0000,  0.0000,  0.0000],\n",
              "        [ 0.2720, -0.0620, -0.1884,  ...,  0.1302, -0.1832,  0.1323],\n",
              "        ...,\n",
              "        [ 0.0000,  0.0000,  0.0000,  ...,  0.0000,  0.0000,  0.0000],\n",
              "        [ 0.1349,  0.1143,  0.2112,  ...,  0.3040, -0.6853,  0.2070],\n",
              "        [-0.1503,  0.5624, -0.5622,  ..., -0.4224, -0.6836,  0.0726]],\n",
              "       requires_grad=True)"
            ]
          },
          "metadata": {},
          "execution_count": 120
        }
      ]
    },
    {
      "cell_type": "markdown",
      "source": [
        "# **3.Loss Function and Optimizer**"
      ],
      "metadata": {
        "id": "ofeZD1gYIfoP"
      }
    },
    {
      "cell_type": "code",
      "source": [
        "optimizer=optim.Adam(model.parameters())"
      ],
      "metadata": {
        "id": "rPmX_EHxID86"
      },
      "execution_count": null,
      "outputs": []
    },
    {
      "cell_type": "code",
      "source": [
        "criterion=nn.CrossEntropyLoss()"
      ],
      "metadata": {
        "id": "R2m0SzeVID47"
      },
      "execution_count": null,
      "outputs": []
    },
    {
      "cell_type": "code",
      "source": [
        "device=torch.device(\"cuda\" if torch.cuda.is_available() else \"cpu\")\n",
        "device"
      ],
      "metadata": {
        "colab": {
          "base_uri": "https://localhost:8080/"
        },
        "id": "Ru-5H1d1ID1K",
        "outputId": "b80b60d8-79d5-4a96-ec6b-3350983bae1c"
      },
      "execution_count": null,
      "outputs": [
        {
          "output_type": "execute_result",
          "data": {
            "text/plain": [
              "device(type='cpu')"
            ]
          },
          "metadata": {},
          "execution_count": 124
        }
      ]
    },
    {
      "cell_type": "code",
      "source": [
        "model=model.to(device)\n",
        "criterion=criterion.to(device)"
      ],
      "metadata": {
        "id": "y5nxa4rKIDw0"
      },
      "execution_count": null,
      "outputs": []
    },
    {
      "cell_type": "markdown",
      "source": [
        "# **4. training And Evaluate Functions**"
      ],
      "metadata": {
        "id": "fQSddZV_JQKX"
      }
    },
    {
      "cell_type": "code",
      "source": [
        "def train(data_loader, model, criterion, optimizer, device):\n",
        "    model.train()\n",
        "    epoch_losses = []\n",
        "    epoch_accs = []\n",
        "    for batch in tqdm.tqdm(data_loader, desc=\"training...\"):\n",
        "        ids = batch[\"ids\"].to(device)\n",
        "        label = batch[\"label\"].to(device)\n",
        "        prediction = model(ids)\n",
        "        loss = criterion(prediction, label)\n",
        "        accuracy = get_accuracy(prediction, label)\n",
        "        optimizer.zero_grad()\n",
        "        loss.backward()\n",
        "        optimizer.step()\n",
        "        epoch_losses.append(loss.item())\n",
        "        epoch_accs.append(accuracy.item())\n",
        "    return np.mean(epoch_losses), np.mean(epoch_accs)\n"
      ],
      "metadata": {
        "id": "0A4Uq-n8IDsI"
      },
      "execution_count": null,
      "outputs": []
    },
    {
      "cell_type": "code",
      "source": [
        "def evaluate(data_loader,model,criterion,device):\n",
        "  model.eval()\n",
        "  epoch_losses=[]\n",
        "  epoch_accs=[]\n",
        "  with torch.no_grad():\n",
        "    for batch in tqdm.tqdm(data_loader,desc=\"evaluating...\"):\n",
        "        ids=batch[\"ids\"].to(device)\n",
        "        label=batch[\"label\"].to(device)\n",
        "        prediction=model(ids)\n",
        "        loss=criterion(prediction,label)\n",
        "        accuracy=get_accuracy(prediction,label)\n",
        "        epoch_losses.append(loss.item())\n",
        "        epoch_accs.append(accuracy.item())\n",
        "  return np.mean(epoch_losses),np.mean(epoch_accs)\n"
      ],
      "metadata": {
        "id": "oqx8twgTIDnl"
      },
      "execution_count": null,
      "outputs": []
    },
    {
      "cell_type": "code",
      "source": [
        "def get_accuracy(prediction,label):\n",
        "  batch_size,_=prediction.shape\n",
        "  predicted_classes=prediction.argmax(dim=-1)\n",
        "  correct_prediction=predicted_classes.eq(label).sum()\n",
        "  accuracy=correct_prediction / batch_size\n",
        "  return accuracy"
      ],
      "metadata": {
        "id": "VivaXvtkIDkE"
      },
      "execution_count": null,
      "outputs": []
    },
    {
      "cell_type": "markdown",
      "source": [
        "# **5. Starting Training Loop**"
      ],
      "metadata": {
        "id": "b-tsJ8WlMLEM"
      }
    },
    {
      "cell_type": "markdown",
      "source": [
        "The **defaultdict** in Python is a container defined in the collections module. It is a subclass of the built-in dict class and provides a default value for the key that does not exist. This means that if a key is not found in the dictionary, instead of a KeyError being thrown, a new key is created with the default value"
      ],
      "metadata": {
        "id": "iyeFE6MoYY1b"
      }
    },
    {
      "cell_type": "code",
      "source": [
        "n_epochs = 10\n",
        "best_valid_loss = float(\"inf\")\n",
        "\n",
        "metrics = collections.defaultdict(list)\n",
        "\n",
        "for epoch in range(n_epochs):\n",
        "    train_loss, train_acc = train(\n",
        "        train_data_loader, model, criterion, optimizer, device\n",
        "    )\n",
        "    valid_loss, valid_acc = evaluate(valid_data_loader, model, criterion, device)\n",
        "    metrics[\"train_losses\"].append(train_loss)\n",
        "    metrics[\"train_accs\"].append(train_acc)\n",
        "    metrics[\"valid_losses\"].append(valid_loss)\n",
        "    metrics[\"valid_accs\"].append(valid_acc)\n",
        "    if valid_loss < best_valid_loss:\n",
        "        best_valid_loss = valid_loss\n",
        "        torch.save(model.state_dict(), \"nbow.pt\")\n",
        "    print(f\"epoch: {epoch}\")\n",
        "    print(f\"train_loss: {train_loss:.3f}, train_acc: {train_acc:.3f}\")\n",
        "    print(f\"valid_loss: {valid_loss:.3f}, valid_acc: {valid_acc:.3f}\")"
      ],
      "metadata": {
        "colab": {
          "base_uri": "https://localhost:8080/"
        },
        "id": "BWn743IdIDgt",
        "outputId": "0901db6e-2ca4-42a9-8641-f6a8f245348a"
      },
      "execution_count": null,
      "outputs": [
        {
          "output_type": "stream",
          "name": "stderr",
          "text": [
            "training...: 100%|██████████| 37/37 [00:14<00:00,  2.51it/s]\n",
            "evaluating...: 100%|██████████| 13/13 [00:02<00:00,  5.81it/s]\n"
          ]
        },
        {
          "output_type": "stream",
          "name": "stdout",
          "text": [
            "epoch: 0\n",
            "train_loss: 0.637, train_acc: 0.737\n",
            "valid_loss: 0.610, valid_acc: 0.744\n"
          ]
        },
        {
          "output_type": "stream",
          "name": "stderr",
          "text": [
            "training...: 100%|██████████| 37/37 [00:15<00:00,  2.39it/s]\n",
            "evaluating...: 100%|██████████| 13/13 [00:02<00:00,  4.90it/s]\n"
          ]
        },
        {
          "output_type": "stream",
          "name": "stdout",
          "text": [
            "epoch: 1\n",
            "train_loss: 0.573, train_acc: 0.773\n",
            "valid_loss: 0.544, valid_acc: 0.787\n"
          ]
        },
        {
          "output_type": "stream",
          "name": "stderr",
          "text": [
            "training...: 100%|██████████| 37/37 [00:15<00:00,  2.44it/s]\n",
            "evaluating...: 100%|██████████| 13/13 [00:02<00:00,  6.27it/s]\n"
          ]
        },
        {
          "output_type": "stream",
          "name": "stdout",
          "text": [
            "epoch: 2\n",
            "train_loss: 0.500, train_acc: 0.818\n",
            "valid_loss: 0.481, valid_acc: 0.823\n"
          ]
        },
        {
          "output_type": "stream",
          "name": "stderr",
          "text": [
            "training...: 100%|██████████| 37/37 [00:15<00:00,  2.39it/s]\n",
            "evaluating...: 100%|██████████| 13/13 [00:02<00:00,  5.63it/s]\n"
          ]
        },
        {
          "output_type": "stream",
          "name": "stdout",
          "text": [
            "epoch: 3\n",
            "train_loss: 0.433, train_acc: 0.852\n",
            "valid_loss: 0.432, valid_acc: 0.837\n"
          ]
        },
        {
          "output_type": "stream",
          "name": "stderr",
          "text": [
            "training...: 100%|██████████| 37/37 [00:15<00:00,  2.38it/s]\n",
            "evaluating...: 100%|██████████| 13/13 [00:02<00:00,  6.27it/s]\n"
          ]
        },
        {
          "output_type": "stream",
          "name": "stdout",
          "text": [
            "epoch: 4\n",
            "train_loss: 0.379, train_acc: 0.873\n",
            "valid_loss: 0.395, valid_acc: 0.850\n"
          ]
        },
        {
          "output_type": "stream",
          "name": "stderr",
          "text": [
            "training...: 100%|██████████| 37/37 [00:15<00:00,  2.43it/s]\n",
            "evaluating...: 100%|██████████| 13/13 [00:02<00:00,  6.31it/s]\n"
          ]
        },
        {
          "output_type": "stream",
          "name": "stdout",
          "text": [
            "epoch: 5\n",
            "train_loss: 0.338, train_acc: 0.888\n",
            "valid_loss: 0.370, valid_acc: 0.858\n"
          ]
        },
        {
          "output_type": "stream",
          "name": "stderr",
          "text": [
            "training...: 100%|██████████| 37/37 [00:15<00:00,  2.36it/s]\n",
            "evaluating...: 100%|██████████| 13/13 [00:02<00:00,  5.46it/s]\n"
          ]
        },
        {
          "output_type": "stream",
          "name": "stdout",
          "text": [
            "epoch: 6\n",
            "train_loss: 0.305, train_acc: 0.899\n",
            "valid_loss: 0.351, valid_acc: 0.863\n"
          ]
        },
        {
          "output_type": "stream",
          "name": "stderr",
          "text": [
            "training...: 100%|██████████| 37/37 [00:15<00:00,  2.45it/s]\n",
            "evaluating...: 100%|██████████| 13/13 [00:02<00:00,  6.35it/s]\n"
          ]
        },
        {
          "output_type": "stream",
          "name": "stdout",
          "text": [
            "epoch: 7\n",
            "train_loss: 0.279, train_acc: 0.908\n",
            "valid_loss: 0.336, valid_acc: 0.865\n"
          ]
        },
        {
          "output_type": "stream",
          "name": "stderr",
          "text": [
            "training...: 100%|██████████| 37/37 [00:15<00:00,  2.44it/s]\n",
            "evaluating...: 100%|██████████| 13/13 [00:02<00:00,  5.60it/s]\n"
          ]
        },
        {
          "output_type": "stream",
          "name": "stdout",
          "text": [
            "epoch: 8\n",
            "train_loss: 0.257, train_acc: 0.916\n",
            "valid_loss: 0.325, valid_acc: 0.869\n"
          ]
        },
        {
          "output_type": "stream",
          "name": "stderr",
          "text": [
            "training...: 100%|██████████| 37/37 [00:15<00:00,  2.38it/s]\n",
            "evaluating...: 100%|██████████| 13/13 [00:02<00:00,  6.31it/s]\n"
          ]
        },
        {
          "output_type": "stream",
          "name": "stdout",
          "text": [
            "epoch: 9\n",
            "train_loss: 0.238, train_acc: 0.924\n",
            "valid_loss: 0.318, valid_acc: 0.869\n"
          ]
        }
      ]
    },
    {
      "cell_type": "markdown",
      "source": [
        "# **6.Visulizing Our Model**"
      ],
      "metadata": {
        "id": "QKVA1O_aQFbw"
      }
    },
    {
      "cell_type": "markdown",
      "source": [
        "**visulze training loss and val loss**"
      ],
      "metadata": {
        "id": "lsBLscYYRYpH"
      }
    },
    {
      "cell_type": "code",
      "source": [
        "fig = plt.figure(figsize=(10, 6))\n",
        "ax = fig.add_subplot(1, 1, 1)\n",
        "ax.plot(metrics[\"train_losses\"], label=\"train loss\")\n",
        "ax.plot(metrics[\"valid_losses\"], label=\"valid loss\")\n",
        "ax.set_xlabel(\"epoch\")\n",
        "ax.set_ylabel(\"loss\")\n",
        "ax.set_xticks(range(n_epochs))\n",
        "ax.legend()\n",
        "ax.grid()"
      ],
      "metadata": {
        "colab": {
          "base_uri": "https://localhost:8080/",
          "height": 542
        },
        "id": "w6WQ4MWLIDdg",
        "outputId": "4e9e3760-a47c-4226-bd89-9a2e06c2efb9"
      },
      "execution_count": null,
      "outputs": [
        {
          "output_type": "display_data",
          "data": {
            "text/plain": [
              "<Figure size 1000x600 with 1 Axes>"
            ],
            "image/png": "[encoded data removed]"
          },
          "metadata": {}
        }
      ]
    },
    {
      "cell_type": "markdown",
      "source": [
        "**visulizing train accuray and valid accuracy**"
      ],
      "metadata": {
        "id": "iWkzlKp8Rebz"
      }
    },
    {
      "cell_type": "code",
      "source": [
        "fig=plt.figure(figsize=(10,6))\n",
        "ax=fig.add_subplot(1,1,1)\n",
        "ax.plot(metrics[\"train_accs\"],label=\"train accuracy\")\n",
        "ax.plot(metrics[\"valid_accs\"],label=\"valid accuracy\")\n",
        "ax.set_xlabel(\"epoch\")\n",
        "ax.set_ylabel(\"loss\")\n",
        "ax.set_xticks(range(n_epochs))\n",
        "ax.legend()\n",
        "ax.grid()"
      ],
      "metadata": {
        "colab": {
          "base_uri": "https://localhost:8080/",
          "height": 542
        },
        "id": "w4VV0QxAIDZG",
        "outputId": "834542ed-7426-4c66-a9ce-ba47f6190243"
      },
      "execution_count": null,
      "outputs": [
        {
          "output_type": "display_data",
          "data": {
            "text/plain": [
              "<Figure size 1000x600 with 1 Axes>"
            ],
            "image/png": "[encoded data removed]"
          },
          "metadata": {}
        }
      ]
    },
    {
      "cell_type": "markdown",
      "source": [
        "# **again loading state_dict()**"
      ],
      "metadata": {
        "id": "aAgOg2aOSXAi"
      }
    },
    {
      "cell_type": "code",
      "source": [
        "model.load_state_dict(torch.load(\"nbow.pt\"))\n",
        "test_loss,test_acc=evaluate(test_data_loader,model,criterion,device)"
      ],
      "metadata": {
        "colab": {
          "base_uri": "https://localhost:8080/"
        },
        "id": "ueG2cz65IDVK",
        "outputId": "8104f0d0-0ef4-444e-c336-61e1efe41b7e"
      },
      "execution_count": null,
      "outputs": [
        {
          "output_type": "stream",
          "name": "stderr",
          "text": [
            "evaluating...: 100%|██████████| 49/49 [00:11<00:00,  4.38it/s]\n"
          ]
        }
      ]
    },
    {
      "cell_type": "code",
      "source": [
        "print(f\"test_loss: {test_loss:.3f},test_acc: {test_acc:.3f}\")"
      ],
      "metadata": {
        "colab": {
          "base_uri": "https://localhost:8080/"
        },
        "id": "u1X5_zT9IDRb",
        "outputId": "df9d0eb2-b777-4375-e355-9bc1a8bca5b3"
      },
      "execution_count": null,
      "outputs": [
        {
          "output_type": "stream",
          "name": "stdout",
          "text": [
            "test_loss: 0.350,test_acc: 0.856\n"
          ]
        }
      ]
    },
    {
      "cell_type": "markdown",
      "source": [
        "# **7. Testing model ,with new sentence (sentiment analysis)**"
      ],
      "metadata": {
        "id": "LVfjOisqTIJB"
      }
    },
    {
      "cell_type": "code",
      "source": [
        "def predict_sentiment(text,model,tokenizer,vocab,device):\n",
        "  tokens=tokenizer(text)\n",
        "  ids=vocab.lookup_indices(tokens)\n",
        "  tensor=torch.LongTensor(ids).unsqueeze(dim=0).to(device)\n",
        "  prediction=model(tensor).squeeze(dim=0)\n",
        "  probability=torch.softmax(prediction,dim=-1)\n",
        "  predicted_class=prediction.argmax(dim=-1).item()\n",
        "  predicted_probability=probability[predicted_class].item()\n",
        "  return predicted_class,predicted_probability\n"
      ],
      "metadata": {
        "id": "KulugDU1IDNa"
      },
      "execution_count": null,
      "outputs": []
    },
    {
      "cell_type": "code",
      "source": [
        "text=\"this film is terrible!\"\n",
        "predict_sentiment(text,model,tokenizer,vocab,device)"
      ],
      "metadata": {
        "colab": {
          "base_uri": "https://localhost:8080/"
        },
        "id": "xmXEjHETS7XQ",
        "outputId": "cd961887-a553-4993-a649-0a1218c2865f"
      },
      "execution_count": null,
      "outputs": [
        {
          "output_type": "execute_result",
          "data": {
            "text/plain": [
              "(0, 0.9999986886978149)"
            ]
          },
          "metadata": {},
          "execution_count": 156
        }
      ]
    },
    {
      "cell_type": "code",
      "source": [
        "text=\"this film is great!\"\n",
        "predict_sentiment(text,model,tokenizer,vocab,device)"
      ],
      "metadata": {
        "colab": {
          "base_uri": "https://localhost:8080/"
        },
        "id": "trt8pBNTS7Tz",
        "outputId": "6b766d90-898d-4739-cd73-1fee4e712594"
      },
      "execution_count": null,
      "outputs": [
        {
          "output_type": "execute_result",
          "data": {
            "text/plain": [
              "(1, 0.9999998807907104)"
            ]
          },
          "metadata": {},
          "execution_count": 157
        }
      ]
    },
    {
      "cell_type": "code",
      "source": [
        "text = \"This film is not terrible, it's great!\"\n",
        "\n",
        "predict_sentiment(text, model, tokenizer, vocab, device)"
      ],
      "metadata": {
        "colab": {
          "base_uri": "https://localhost:8080/"
        },
        "id": "AtkSV4rHS7JJ",
        "outputId": "253a0fc8-4c7f-477d-cd4f-7d7b6374692c"
      },
      "execution_count": null,
      "outputs": [
        {
          "output_type": "execute_result",
          "data": {
            "text/plain": [
              "(1, 0.7102710008621216)"
            ]
          },
          "metadata": {},
          "execution_count": 158
        }
      ]
    },
    {
      "cell_type": "code",
      "source": [
        "text = \"This film is not great, it's terrible!\"\n",
        "\n",
        "predict_sentiment(text, model, tokenizer, vocab, device)"
      ],
      "metadata": {
        "colab": {
          "base_uri": "https://localhost:8080/"
        },
        "id": "nvhtmngYUv-Z",
        "outputId": "59305df7-f08d-439e-9bc3-818387e7f76b"
      },
      "execution_count": null,
      "outputs": [
        {
          "output_type": "execute_result",
          "data": {
            "text/plain": [
              "(1, 0.7102710008621216)"
            ]
          },
          "metadata": {},
          "execution_count": 159
        }
      ]
    },
    {
      "cell_type": "code",
      "source": [],
      "metadata": {
        "id": "deIYW2X7UzvB"
      },
      "execution_count": null,
      "outputs": []
    }
  ]
}